{
  "nbformat": 4,
  "nbformat_minor": 0,
  "metadata": {
    "colab": {
      "provenance": [],
      "collapsed_sections": [
        "hwmNtmwQjMvF",
        "AUPO2Ufti4w6",
        "izoCOB5fjDoA",
        "g1fA6ehajtJL",
        "_1k81eZVqx3g",
        "GuY9xzL84Bpz"
      ]
    },
    "kernelspec": {
      "name": "python3",
      "display_name": "Python 3"
    },
    "language_info": {
      "name": "python"
    }
  },
  "cells": [
    {
      "cell_type": "code",
      "source": [
        "import pyspark\n",
        "from pyspark.sql import SparkSession"
      ],
      "metadata": {
        "id": "GsUPRQHDOjpW"
      },
      "execution_count": null,
      "outputs": []
    },
    {
      "cell_type": "code",
      "source": [
        "pyspark.__version__"
      ],
      "metadata": {
        "colab": {
          "base_uri": "https://localhost:8080/",
          "height": 37
        },
        "id": "g4DQMjxzOlQV",
        "outputId": "08e86b46-1b49-44a6-e0ce-01d70a930f45"
      },
      "execution_count": null,
      "outputs": [
        {
          "output_type": "execute_result",
          "data": {
            "text/plain": [
              "'3.5.1'"
            ],
            "application/vnd.google.colaboratory.intrinsic+json": {
              "type": "string"
            }
          },
          "metadata": {},
          "execution_count": 4
        }
      ]
    },
    {
      "cell_type": "markdown",
      "source": [
        "## import read create"
      ],
      "metadata": {
        "id": "hwmNtmwQjMvF"
      }
    },
    {
      "cell_type": "code",
      "source": [
        "spark = SparkSession.builder.appName('session').getOrCreate()"
      ],
      "metadata": {
        "id": "UfaCADSfQ2s0"
      },
      "execution_count": null,
      "outputs": []
    },
    {
      "cell_type": "code",
      "source": [
        "spark"
      ],
      "metadata": {
        "colab": {
          "base_uri": "https://localhost:8080/"
        },
        "id": "_nYtd3jWRv18",
        "outputId": "a4249a02-b170-414c-8dc0-49a4d9b55dc4"
      },
      "execution_count": null,
      "outputs": [
        {
          "output_type": "execute_result",
          "data": {
            "text/plain": [
              "<pyspark.sql.session.SparkSession at 0x7fc4c037c2e0>"
            ],
            "text/html": [
              "\n",
              "            <div>\n",
              "                <p><b>SparkSession - in-memory</b></p>\n",
              "                \n",
              "        <div>\n",
              "            <p><b>SparkContext</b></p>\n",
              "\n",
              "            <p><a href=\"http://1381d023486c:4040\">Spark UI</a></p>\n",
              "\n",
              "            <dl>\n",
              "              <dt>Version</dt>\n",
              "                <dd><code>v3.5.1</code></dd>\n",
              "              <dt>Master</dt>\n",
              "                <dd><code>local[*]</code></dd>\n",
              "              <dt>AppName</dt>\n",
              "                <dd><code>session</code></dd>\n",
              "            </dl>\n",
              "        </div>\n",
              "        \n",
              "            </div>\n",
              "        "
            ]
          },
          "metadata": {},
          "execution_count": 6
        }
      ]
    },
    {
      "cell_type": "code",
      "source": [
        "# import data\n",
        "data = spark.read.csv('heart.csv',header=True,inferSchema=True)"
      ],
      "metadata": {
        "id": "MCIIa2hDS_LE"
      },
      "execution_count": null,
      "outputs": []
    },
    {
      "cell_type": "code",
      "source": [
        "data.show()"
      ],
      "metadata": {
        "colab": {
          "base_uri": "https://localhost:8080/"
        },
        "id": "BHtrj_HhTKPl",
        "outputId": "742d639d-1368-47c1-e76a-598e8bf68779"
      },
      "execution_count": null,
      "outputs": [
        {
          "output_type": "stream",
          "name": "stdout",
          "text": [
            "+---+---+-------------+---------+-----------+---------+----------+-----+--------------+-------+--------+------------+\n",
            "|Age|Sex|ChestPainType|RestingBP|Cholesterol|FastingBS|RestingECG|MaxHR|ExerciseAngina|Oldpeak|ST_Slope|HeartDisease|\n",
            "+---+---+-------------+---------+-----------+---------+----------+-----+--------------+-------+--------+------------+\n",
            "| 40|  M|          ATA|      140|        289|        0|    Normal|  172|             N|    0.0|      Up|           0|\n",
            "| 49|  F|          NAP|      160|        180|        0|    Normal|  156|             N|    1.0|    Flat|           1|\n",
            "| 37|  M|          ATA|      130|        283|        0|        ST|   98|             N|    0.0|      Up|           0|\n",
            "| 48|  F|          ASY|      138|        214|        0|    Normal|  108|             Y|    1.5|    Flat|           1|\n",
            "| 54|  M|          NAP|      150|        195|        0|    Normal|  122|             N|    0.0|      Up|           0|\n",
            "| 39|  M|          NAP|      120|        339|        0|    Normal|  170|             N|    0.0|      Up|           0|\n",
            "| 45|  F|          ATA|      130|        237|        0|    Normal|  170|             N|    0.0|      Up|           0|\n",
            "| 54|  M|          ATA|      110|        208|        0|    Normal|  142|             N|    0.0|      Up|           0|\n",
            "| 37|  M|          ASY|      140|        207|        0|    Normal|  130|             Y|    1.5|    Flat|           1|\n",
            "| 48|  F|          ATA|      120|        284|        0|    Normal|  120|             N|    0.0|      Up|           0|\n",
            "| 37|  F|          NAP|      130|        211|        0|    Normal|  142|             N|    0.0|      Up|           0|\n",
            "| 58|  M|          ATA|      136|        164|        0|        ST|   99|             Y|    2.0|    Flat|           1|\n",
            "| 39|  M|          ATA|      120|        204|        0|    Normal|  145|             N|    0.0|      Up|           0|\n",
            "| 49|  M|          ASY|      140|        234|        0|    Normal|  140|             Y|    1.0|    Flat|           1|\n",
            "| 42|  F|          NAP|      115|        211|        0|        ST|  137|             N|    0.0|      Up|           0|\n",
            "| 54|  F|          ATA|      120|        273|        0|    Normal|  150|             N|    1.5|    Flat|           0|\n",
            "| 38|  M|          ASY|      110|        196|        0|    Normal|  166|             N|    0.0|    Flat|           1|\n",
            "| 43|  F|          ATA|      120|        201|        0|    Normal|  165|             N|    0.0|      Up|           0|\n",
            "| 60|  M|          ASY|      100|        248|        0|    Normal|  125|             N|    1.0|    Flat|           1|\n",
            "| 36|  M|          ATA|      120|        267|        0|    Normal|  160|             N|    3.0|    Flat|           1|\n",
            "+---+---+-------------+---------+-----------+---------+----------+-----+--------------+-------+--------+------------+\n",
            "only showing top 20 rows\n",
            "\n"
          ]
        }
      ]
    },
    {
      "cell_type": "code",
      "source": [
        "data.take(2)[0]"
      ],
      "metadata": {
        "colab": {
          "base_uri": "https://localhost:8080/"
        },
        "id": "T-52lBUDUwT0",
        "outputId": "a533739c-b5fd-4b39-d8ca-bf40f10e2177"
      },
      "execution_count": null,
      "outputs": [
        {
          "output_type": "execute_result",
          "data": {
            "text/plain": [
              "Row(Age=40, Sex='M', ChestPainType='ATA', RestingBP=140, Cholesterol=289, FastingBS=0, RestingECG='Normal', MaxHR=172, ExerciseAngina='N', Oldpeak=0.0, ST_Slope='Up', HeartDisease=0)"
            ]
          },
          "metadata": {},
          "execution_count": 29
        }
      ]
    },
    {
      "cell_type": "code",
      "source": [
        "data.limit(100)"
      ],
      "metadata": {
        "colab": {
          "base_uri": "https://localhost:8080/"
        },
        "id": "esI2LSgWU_xa",
        "outputId": "20b41855-0381-4c0e-b77c-1f689d290d81"
      },
      "execution_count": null,
      "outputs": [
        {
          "output_type": "execute_result",
          "data": {
            "text/plain": [
              "DataFrame[Age: int, Sex: string, ChestPainType: string, RestingBP: int, Cholesterol: int, FastingBS: int, RestingECG: string, MaxHR: int, ExerciseAngina: string, Oldpeak: double, ST_Slope: string, HeartDisease: int]"
            ]
          },
          "metadata": {},
          "execution_count": 30
        }
      ]
    },
    {
      "cell_type": "code",
      "source": [
        "data.head(1)"
      ],
      "metadata": {
        "colab": {
          "base_uri": "https://localhost:8080/"
        },
        "id": "0HcnIuM9VfGR",
        "outputId": "7b851d95-021f-4ea4-c754-a9ecba241016"
      },
      "execution_count": null,
      "outputs": [
        {
          "output_type": "execute_result",
          "data": {
            "text/plain": [
              "[Row(Age=40, Sex='M', ChestPainType='ATA', RestingBP=140, Cholesterol=289, FastingBS=0, RestingECG='Normal', MaxHR=172, ExerciseAngina='N', Oldpeak=0.0, ST_Slope='Up', HeartDisease=0)]"
            ]
          },
          "metadata": {},
          "execution_count": 31
        }
      ]
    },
    {
      "cell_type": "code",
      "source": [
        "# data.collect"
      ],
      "metadata": {
        "id": "BjIqeysqVuxM"
      },
      "execution_count": null,
      "outputs": []
    },
    {
      "cell_type": "code",
      "source": [
        "data.columns"
      ],
      "metadata": {
        "colab": {
          "base_uri": "https://localhost:8080/"
        },
        "id": "niAgFXPEWCrF",
        "outputId": "b1124e02-ef1e-4717-c723-5fa0698fd4ae"
      },
      "execution_count": null,
      "outputs": [
        {
          "output_type": "execute_result",
          "data": {
            "text/plain": [
              "['Age',\n",
              " 'Sex',\n",
              " 'ChestPainType',\n",
              " 'RestingBP',\n",
              " 'Cholesterol',\n",
              " 'FastingBS',\n",
              " 'RestingECG',\n",
              " 'MaxHR',\n",
              " 'ExerciseAngina',\n",
              " 'Oldpeak',\n",
              " 'ST_Slope',\n",
              " 'HeartDisease']"
            ]
          },
          "metadata": {},
          "execution_count": 33
        }
      ]
    },
    {
      "cell_type": "code",
      "source": [
        "data.printSchema() ## pandas.info()"
      ],
      "metadata": {
        "colab": {
          "base_uri": "https://localhost:8080/"
        },
        "id": "rV2ECdcCX0c0",
        "outputId": "25bf0308-52b8-4861-b2eb-22866249a7c8"
      },
      "execution_count": null,
      "outputs": [
        {
          "output_type": "stream",
          "name": "stdout",
          "text": [
            "root\n",
            " |-- Age: integer (nullable = true)\n",
            " |-- Sex: string (nullable = true)\n",
            " |-- ChestPainType: string (nullable = true)\n",
            " |-- RestingBP: integer (nullable = true)\n",
            " |-- Cholesterol: integer (nullable = true)\n",
            " |-- FastingBS: integer (nullable = true)\n",
            " |-- RestingECG: string (nullable = true)\n",
            " |-- MaxHR: integer (nullable = true)\n",
            " |-- ExerciseAngina: string (nullable = true)\n",
            " |-- Oldpeak: double (nullable = true)\n",
            " |-- ST_Slope: string (nullable = true)\n",
            " |-- HeartDisease: integer (nullable = true)\n",
            "\n"
          ]
        }
      ]
    },
    {
      "cell_type": "code",
      "source": [
        "def shape(data): ## helper function\n",
        "   print((data.count() , len(data.columns)))"
      ],
      "metadata": {
        "id": "ZbK0-Cpoc3Zs"
      },
      "execution_count": null,
      "outputs": []
    },
    {
      "cell_type": "code",
      "source": [
        "data.describe().show()"
      ],
      "metadata": {
        "colab": {
          "base_uri": "https://localhost:8080/"
        },
        "id": "vKdaQdo3e5fL",
        "outputId": "bbff7aaf-c0b8-4040-bd62-ab5fc4f574f4"
      },
      "execution_count": null,
      "outputs": [
        {
          "output_type": "stream",
          "name": "stdout",
          "text": [
            "+-------+------------------+----+-------------+------------------+------------------+-------------------+----------+------------------+--------------+------------------+--------+-------------------+\n",
            "|summary|               Age| Sex|ChestPainType|         RestingBP|       Cholesterol|          FastingBS|RestingECG|             MaxHR|ExerciseAngina|           Oldpeak|ST_Slope|       HeartDisease|\n",
            "+-------+------------------+----+-------------+------------------+------------------+-------------------+----------+------------------+--------------+------------------+--------+-------------------+\n",
            "|  count|               918| 918|          918|               918|               918|                918|       918|               918|           918|               918|     918|                918|\n",
            "|   mean|53.510893246187365|NULL|         NULL|132.39651416122004| 198.7995642701525|0.23311546840958605|      NULL|136.80936819172112|          NULL|0.8873638344226581|    NULL| 0.5533769063180828|\n",
            "| stddev|  9.43261650673202|NULL|         NULL|18.514154119907808|109.38414455220345|0.42304562473930296|      NULL| 25.46033413825029|          NULL|1.0665701510493264|    NULL|0.49741373828459706|\n",
            "|    min|                28|   F|          ASY|                 0|                 0|                  0|       LVH|                60|             N|              -2.6|    Down|                  0|\n",
            "|    max|                77|   M|           TA|               200|               603|                  1|        ST|               202|             Y|               6.2|      Up|                  1|\n",
            "+-------+------------------+----+-------------+------------------+------------------+-------------------+----------+------------------+--------------+------------------+--------+-------------------+\n",
            "\n"
          ]
        }
      ]
    },
    {
      "cell_type": "markdown",
      "source": [
        "## Columns"
      ],
      "metadata": {
        "id": "AUPO2Ufti4w6"
      }
    },
    {
      "cell_type": "code",
      "source": [
        "## create new column\n",
        "data= data.withColumn('New Age',data['Age']+2)"
      ],
      "metadata": {
        "id": "mKwyH3e-ZwX0"
      },
      "execution_count": null,
      "outputs": []
    },
    {
      "cell_type": "code",
      "source": [
        "data.select(['Age' ,'ST_Slope']).show(5)"
      ],
      "metadata": {
        "colab": {
          "base_uri": "https://localhost:8080/"
        },
        "id": "rtGEIFx2Ythr",
        "outputId": "ff130706-ef3c-4658-8a32-65494753736a"
      },
      "execution_count": null,
      "outputs": [
        {
          "output_type": "stream",
          "name": "stdout",
          "text": [
            "+---+--------+\n",
            "|Age|ST_Slope|\n",
            "+---+--------+\n",
            "| 40|      Up|\n",
            "| 49|    Flat|\n",
            "| 37|      Up|\n",
            "| 48|    Flat|\n",
            "| 54|      Up|\n",
            "+---+--------+\n",
            "only showing top 5 rows\n",
            "\n"
          ]
        }
      ]
    },
    {
      "cell_type": "code",
      "source": [
        "data.show(5)"
      ],
      "metadata": {
        "colab": {
          "base_uri": "https://localhost:8080/"
        },
        "id": "yQcRY05lbCt2",
        "outputId": "b415d30e-de57-4bfa-e100-2ab8a7fd408c"
      },
      "execution_count": null,
      "outputs": [
        {
          "output_type": "stream",
          "name": "stdout",
          "text": [
            "+---+---+-------------+---------+-----------+---------+----------+-----+--------------+-------+--------+------------+-------+\n",
            "|Age|Sex|ChestPainType|RestingBP|Cholesterol|FastingBS|RestingECG|MaxHR|ExerciseAngina|Oldpeak|ST_Slope|HeartDisease|New Age|\n",
            "+---+---+-------------+---------+-----------+---------+----------+-----+--------------+-------+--------+------------+-------+\n",
            "| 40|  M|          ATA|      140|        289|        0|    Normal|  172|             N|    0.0|      Up|           0|     42|\n",
            "| 49|  F|          NAP|      160|        180|        0|    Normal|  156|             N|    1.0|    Flat|           1|     51|\n",
            "| 37|  M|          ATA|      130|        283|        0|        ST|   98|             N|    0.0|      Up|           0|     39|\n",
            "| 48|  F|          ASY|      138|        214|        0|    Normal|  108|             Y|    1.5|    Flat|           1|     50|\n",
            "| 54|  M|          NAP|      150|        195|        0|    Normal|  122|             N|    0.0|      Up|           0|     56|\n",
            "+---+---+-------------+---------+-----------+---------+----------+-----+--------------+-------+--------+------------+-------+\n",
            "only showing top 5 rows\n",
            "\n"
          ]
        }
      ]
    },
    {
      "cell_type": "code",
      "source": [
        "data = data.drop('New Age')"
      ],
      "metadata": {
        "id": "CQQJ382EbDSF"
      },
      "execution_count": null,
      "outputs": []
    },
    {
      "cell_type": "code",
      "source": [
        "data.show(5)"
      ],
      "metadata": {
        "colab": {
          "base_uri": "https://localhost:8080/"
        },
        "id": "xlwtg8Fuby-S",
        "outputId": "a43bd12e-769c-4bd6-dd48-05d225b6cd16"
      },
      "execution_count": null,
      "outputs": [
        {
          "output_type": "stream",
          "name": "stdout",
          "text": [
            "+---+---+-------------+---------+-----------+---------+----------+-----+--------------+-------+--------+------------+\n",
            "|Age|Sex|ChestPainType|RestingBP|Cholesterol|FastingBS|RestingECG|MaxHR|ExerciseAngina|Oldpeak|ST_Slope|HeartDisease|\n",
            "+---+---+-------------+---------+-----------+---------+----------+-----+--------------+-------+--------+------------+\n",
            "| 40|  M|          ATA|      140|        289|        0|    Normal|  172|             N|    0.0|      Up|           0|\n",
            "| 49|  F|          NAP|      160|        180|        0|    Normal|  156|             N|    1.0|    Flat|           1|\n",
            "| 37|  M|          ATA|      130|        283|        0|        ST|   98|             N|    0.0|      Up|           0|\n",
            "| 48|  F|          ASY|      138|        214|        0|    Normal|  108|             Y|    1.5|    Flat|           1|\n",
            "| 54|  M|          NAP|      150|        195|        0|    Normal|  122|             N|    0.0|      Up|           0|\n",
            "+---+---+-------------+---------+-----------+---------+----------+-----+--------------+-------+--------+------------+\n",
            "only showing top 5 rows\n",
            "\n"
          ]
        }
      ]
    },
    {
      "cell_type": "code",
      "source": [
        "data = data.withColumnRenamed(existing='Age',new='age')\n",
        "# Rename multiple Columns\n",
        "names = [('Age','age'),('Sex','sex')]\n",
        "for old , new in names:\n",
        "  data = data.withColumnRenamed(old ,new)\n"
      ],
      "metadata": {
        "id": "BxTglRfob0eJ"
      },
      "execution_count": null,
      "outputs": []
    },
    {
      "cell_type": "code",
      "source": [
        "data.show()"
      ],
      "metadata": {
        "colab": {
          "base_uri": "https://localhost:8080/"
        },
        "id": "hFmxNyHqcaP0",
        "outputId": "369bacd7-b13e-4acc-e9ac-beb95e187a7f"
      },
      "execution_count": null,
      "outputs": [
        {
          "output_type": "stream",
          "name": "stdout",
          "text": [
            "+---+---+-------------+---------+-----------+---------+----------+-----+--------------+-------+--------+------------+\n",
            "|age|Sex|ChestPainType|RestingBP|Cholesterol|FastingBS|RestingECG|MaxHR|ExerciseAngina|Oldpeak|ST_Slope|HeartDisease|\n",
            "+---+---+-------------+---------+-----------+---------+----------+-----+--------------+-------+--------+------------+\n",
            "| 40|  M|          ATA|      140|        289|        0|    Normal|  172|             N|    0.0|      Up|           0|\n",
            "| 49|  F|          NAP|      160|        180|        0|    Normal|  156|             N|    1.0|    Flat|           1|\n",
            "| 37|  M|          ATA|      130|        283|        0|        ST|   98|             N|    0.0|      Up|           0|\n",
            "| 48|  F|          ASY|      138|        214|        0|    Normal|  108|             Y|    1.5|    Flat|           1|\n",
            "| 54|  M|          NAP|      150|        195|        0|    Normal|  122|             N|    0.0|      Up|           0|\n",
            "| 39|  M|          NAP|      120|        339|        0|    Normal|  170|             N|    0.0|      Up|           0|\n",
            "| 45|  F|          ATA|      130|        237|        0|    Normal|  170|             N|    0.0|      Up|           0|\n",
            "| 54|  M|          ATA|      110|        208|        0|    Normal|  142|             N|    0.0|      Up|           0|\n",
            "| 37|  M|          ASY|      140|        207|        0|    Normal|  130|             Y|    1.5|    Flat|           1|\n",
            "| 48|  F|          ATA|      120|        284|        0|    Normal|  120|             N|    0.0|      Up|           0|\n",
            "| 37|  F|          NAP|      130|        211|        0|    Normal|  142|             N|    0.0|      Up|           0|\n",
            "| 58|  M|          ATA|      136|        164|        0|        ST|   99|             Y|    2.0|    Flat|           1|\n",
            "| 39|  M|          ATA|      120|        204|        0|    Normal|  145|             N|    0.0|      Up|           0|\n",
            "| 49|  M|          ASY|      140|        234|        0|    Normal|  140|             Y|    1.0|    Flat|           1|\n",
            "| 42|  F|          NAP|      115|        211|        0|        ST|  137|             N|    0.0|      Up|           0|\n",
            "| 54|  F|          ATA|      120|        273|        0|    Normal|  150|             N|    1.5|    Flat|           0|\n",
            "| 38|  M|          ASY|      110|        196|        0|    Normal|  166|             N|    0.0|    Flat|           1|\n",
            "| 43|  F|          ATA|      120|        201|        0|    Normal|  165|             N|    0.0|      Up|           0|\n",
            "| 60|  M|          ASY|      100|        248|        0|    Normal|  125|             N|    1.0|    Flat|           1|\n",
            "| 36|  M|          ATA|      120|        267|        0|    Normal|  160|             N|    3.0|    Flat|           1|\n",
            "+---+---+-------------+---------+-----------+---------+----------+-----+--------------+-------+--------+------------+\n",
            "only showing top 20 rows\n",
            "\n"
          ]
        }
      ]
    },
    {
      "cell_type": "code",
      "source": [
        "# query in pyspark\n",
        "data[data['age']>50].show()"
      ],
      "metadata": {
        "colab": {
          "base_uri": "https://localhost:8080/"
        },
        "id": "wmtrk9cccbkF",
        "outputId": "502f0b1a-5f6a-4327-b237-5b0b59af4acb"
      },
      "execution_count": null,
      "outputs": [
        {
          "output_type": "stream",
          "name": "stdout",
          "text": [
            "+---+---+-------------+---------+-----------+---------+----------+-----+--------------+-------+--------+------------+\n",
            "|age|Sex|ChestPainType|RestingBP|Cholesterol|FastingBS|RestingECG|MaxHR|ExerciseAngina|Oldpeak|ST_Slope|HeartDisease|\n",
            "+---+---+-------------+---------+-----------+---------+----------+-----+--------------+-------+--------+------------+\n",
            "| 54|  M|          NAP|      150|        195|        0|    Normal|  122|             N|    0.0|      Up|           0|\n",
            "| 54|  M|          ATA|      110|        208|        0|    Normal|  142|             N|    0.0|      Up|           0|\n",
            "| 58|  M|          ATA|      136|        164|        0|        ST|   99|             Y|    2.0|    Flat|           1|\n",
            "| 54|  F|          ATA|      120|        273|        0|    Normal|  150|             N|    1.5|    Flat|           0|\n",
            "| 60|  M|          ASY|      100|        248|        0|    Normal|  125|             N|    1.0|    Flat|           1|\n",
            "| 53|  M|          ASY|      124|        260|        0|        ST|  112|             Y|    3.0|    Flat|           0|\n",
            "| 52|  M|          ATA|      120|        284|        0|    Normal|  118|             N|    0.0|      Up|           0|\n",
            "| 53|  F|          ATA|      113|        468|        0|    Normal|  127|             N|    0.0|      Up|           0|\n",
            "| 51|  M|          ATA|      125|        188|        0|    Normal|  145|             N|    0.0|      Up|           0|\n",
            "| 53|  M|          NAP|      145|        518|        0|    Normal|  130|             N|    0.0|    Flat|           1|\n",
            "| 56|  M|          NAP|      130|        167|        0|    Normal|  114|             N|    0.0|      Up|           0|\n",
            "| 54|  M|          ASY|      125|        224|        0|    Normal|  122|             N|    2.0|    Flat|           1|\n",
            "| 65|  M|          ASY|      140|        306|        1|    Normal|   87|             Y|    1.5|    Flat|           1|\n",
            "| 54|  F|          ATA|      150|        230|        0|    Normal|  130|             N|    0.0|      Up|           0|\n",
            "| 54|  F|          NAP|      130|        294|        0|        ST|  100|             Y|    0.0|    Flat|           1|\n",
            "| 52|  M|          NAP|      140|        259|        0|        ST|  170|             N|    0.0|      Up|           0|\n",
            "| 59|  M|          NAP|      130|        318|        0|    Normal|  120|             Y|    1.0|    Flat|           0|\n",
            "| 52|  F|          ASY|      130|        180|        0|    Normal|  140|             Y|    1.5|    Flat|           0|\n",
            "| 51|  F|          ATA|      160|        194|        0|    Normal|  170|             N|    0.0|      Up|           0|\n",
            "| 58|  M|          NAP|      130|        213|        0|        ST|  140|             N|    0.0|    Flat|           1|\n",
            "+---+---+-------------+---------+-----------+---------+----------+-----+--------------+-------+--------+------------+\n",
            "only showing top 20 rows\n",
            "\n"
          ]
        }
      ]
    },
    {
      "cell_type": "code",
      "source": [
        "data.filter('Age > 50').show()"
      ],
      "metadata": {
        "colab": {
          "base_uri": "https://localhost:8080/"
        },
        "id": "HReJ0V4-i8XI",
        "outputId": "45c3afe2-5858-4110-ae4d-5db7c16045d6"
      },
      "execution_count": null,
      "outputs": [
        {
          "output_type": "stream",
          "name": "stdout",
          "text": [
            "+---+---+-------------+---------+-----------+---------+----------+-----+--------------+-------+--------+------------+\n",
            "|age|Sex|ChestPainType|RestingBP|Cholesterol|FastingBS|RestingECG|MaxHR|ExerciseAngina|Oldpeak|ST_Slope|HeartDisease|\n",
            "+---+---+-------------+---------+-----------+---------+----------+-----+--------------+-------+--------+------------+\n",
            "| 54|  M|          NAP|      150|        195|        0|    Normal|  122|             N|    0.0|      Up|           0|\n",
            "| 54|  M|          ATA|      110|        208|        0|    Normal|  142|             N|    0.0|      Up|           0|\n",
            "| 58|  M|          ATA|      136|        164|        0|        ST|   99|             Y|    2.0|    Flat|           1|\n",
            "| 54|  F|          ATA|      120|        273|        0|    Normal|  150|             N|    1.5|    Flat|           0|\n",
            "| 60|  M|          ASY|      100|        248|        0|    Normal|  125|             N|    1.0|    Flat|           1|\n",
            "| 53|  M|          ASY|      124|        260|        0|        ST|  112|             Y|    3.0|    Flat|           0|\n",
            "| 52|  M|          ATA|      120|        284|        0|    Normal|  118|             N|    0.0|      Up|           0|\n",
            "| 53|  F|          ATA|      113|        468|        0|    Normal|  127|             N|    0.0|      Up|           0|\n",
            "| 51|  M|          ATA|      125|        188|        0|    Normal|  145|             N|    0.0|      Up|           0|\n",
            "| 53|  M|          NAP|      145|        518|        0|    Normal|  130|             N|    0.0|    Flat|           1|\n",
            "| 56|  M|          NAP|      130|        167|        0|    Normal|  114|             N|    0.0|      Up|           0|\n",
            "| 54|  M|          ASY|      125|        224|        0|    Normal|  122|             N|    2.0|    Flat|           1|\n",
            "| 65|  M|          ASY|      140|        306|        1|    Normal|   87|             Y|    1.5|    Flat|           1|\n",
            "| 54|  F|          ATA|      150|        230|        0|    Normal|  130|             N|    0.0|      Up|           0|\n",
            "| 54|  F|          NAP|      130|        294|        0|        ST|  100|             Y|    0.0|    Flat|           1|\n",
            "| 52|  M|          NAP|      140|        259|        0|        ST|  170|             N|    0.0|      Up|           0|\n",
            "| 59|  M|          NAP|      130|        318|        0|    Normal|  120|             Y|    1.0|    Flat|           0|\n",
            "| 52|  F|          ASY|      130|        180|        0|    Normal|  140|             Y|    1.5|    Flat|           0|\n",
            "| 51|  F|          ATA|      160|        194|        0|    Normal|  170|             N|    0.0|      Up|           0|\n",
            "| 58|  M|          NAP|      130|        213|        0|        ST|  140|             N|    0.0|    Flat|           1|\n",
            "+---+---+-------------+---------+-----------+---------+----------+-----+--------------+-------+--------+------------+\n",
            "only showing top 20 rows\n",
            "\n"
          ]
        }
      ]
    },
    {
      "cell_type": "code",
      "source": [
        "data.where((data['Age'] > 50) & (data['Sex'] == 'F' )).show()"
      ],
      "metadata": {
        "colab": {
          "base_uri": "https://localhost:8080/"
        },
        "id": "bNzNXgKokzba",
        "outputId": "cd0d47b2-d541-4a04-9b15-1cf14e2058ce"
      },
      "execution_count": null,
      "outputs": [
        {
          "output_type": "stream",
          "name": "stdout",
          "text": [
            "+----+---+-------------+---------+-----------+---------+----------+-----+--------------+-------+--------+------------+\n",
            "| Age|Sex|ChestPainType|RestingBP|Cholesterol|FastingBS|RestingECG|MaxHR|ExerciseAngina|Oldpeak|ST_Slope|HeartDisease|\n",
            "+----+---+-------------+---------+-----------+---------+----------+-----+--------------+-------+--------+------------+\n",
            "|54.0|  F|          ATA|      120|        273|        0|    Normal|  150|             N|    1.5|    Flat|           0|\n",
            "|53.0|  F|          ATA|      113|        468|        0|    Normal|  127|             N|    0.0|      Up|           0|\n",
            "|54.0|  F|          ATA|      150|        230|        0|    Normal|  130|             N|    0.0|      Up|           0|\n",
            "|54.0|  F|          NAP|      130|        294|        0|        ST|  100|             Y|    0.0|    Flat|           1|\n",
            "|52.0|  F|          ASY|      130|        180|        0|    Normal|  140|             Y|    1.5|    Flat|           0|\n",
            "|51.0|  F|          ATA|      160|        194|        0|    Normal|  170|             N|    0.0|      Up|           0|\n",
            "|53.0|  F|          ATA|      140|        216|        0|    Normal|  142|             Y|    2.0|    Flat|           0|\n",
            "|52.0|  F|          ATA|      120|        210|        0|    Normal|  148|             N|    0.0|      Up|           0|\n",
            "|59.0|  F|          ATA|      130|        188|        0|    Normal|  124|             N|    1.0|    Flat|           0|\n",
            "|59.0|  F|          ASY|      130|        338|        1|        ST|  130|             Y|    1.5|    Flat|           1|\n",
            "|52.0|  F|          NAP|      125|        272|        0|    Normal|  139|             N|    0.0|      Up|           0|\n",
            "|58.0|  F|          ATA|      180|        393|        0|    Normal|  110|             Y|    1.0|    Flat|           1|\n",
            "|54.0|  F|          ATA|      120|        230|        1|    Normal|  140|             N|    0.0|      Up|           0|\n",
            "|61.0|  F|          ASY|      130|        294|        0|        ST|  120|             Y|    1.0|    Flat|           0|\n",
            "|56.0|  F|          ATA|      120|        279|        0|    Normal|  150|             N|    1.0|    Flat|           1|\n",
            "|52.0|  F|          ATA|      140|        225|        0|    Normal|  140|             N|    0.0|      Up|           0|\n",
            "|54.0|  F|          ATA|      160|        312|        0|    Normal|  130|             N|    0.0|      Up|           0|\n",
            "|62.0|  F|           TA|      160|        193|        0|    Normal|  116|             N|    0.0|      Up|           0|\n",
            "|57.0|  F|           TA|      130|        308|        0|    Normal|   98|             N|    1.0|    Flat|           0|\n",
            "|56.0|  F|          NAP|      130|        219|        0|        ST|  164|             N|    0.0|      Up|           0|\n",
            "+----+---+-------------+---------+-----------+---------+----------+-----+--------------+-------+--------+------------+\n",
            "only showing top 20 rows\n",
            "\n"
          ]
        }
      ]
    },
    {
      "cell_type": "code",
      "source": [
        "shape(data.where((data['Age'] > 50) | (data['Sex'] == 'F' )))"
      ],
      "metadata": {
        "colab": {
          "base_uri": "https://localhost:8080/"
        },
        "id": "42PBgT--j7EB",
        "outputId": "9d8c2733-6035-42a5-cef8-f07ef761c106"
      },
      "execution_count": null,
      "outputs": [
        {
          "output_type": "stream",
          "name": "stdout",
          "text": [
            "(680, 12)\n"
          ]
        }
      ]
    },
    {
      "cell_type": "markdown",
      "source": [
        "## DataFrame"
      ],
      "metadata": {
        "id": "izoCOB5fjDoA"
      }
    },
    {
      "cell_type": "code",
      "source": [
        "data.write.format('csv').mode('overwrite').save('heart data') # save & Export  data"
      ],
      "metadata": {
        "id": "2cIBOKqldVot"
      },
      "execution_count": null,
      "outputs": []
    },
    {
      "cell_type": "code",
      "source": [
        "from pyspark.sql.types import FloatType\n",
        "data = data.withColumn('Age',data['Age'].cast(FloatType())) # change data types\n",
        "data.printSchema()"
      ],
      "metadata": {
        "colab": {
          "base_uri": "https://localhost:8080/"
        },
        "id": "ULASnRy_flx0",
        "outputId": "8ae34fbd-5a29-4e1d-cee2-5eb131be382d"
      },
      "execution_count": null,
      "outputs": [
        {
          "output_type": "stream",
          "name": "stdout",
          "text": [
            "root\n",
            " |-- Age: float (nullable = true)\n",
            " |-- Sex: string (nullable = true)\n",
            " |-- ChestPainType: string (nullable = true)\n",
            " |-- RestingBP: integer (nullable = true)\n",
            " |-- Cholesterol: integer (nullable = true)\n",
            " |-- FastingBS: integer (nullable = true)\n",
            " |-- RestingECG: string (nullable = true)\n",
            " |-- MaxHR: integer (nullable = true)\n",
            " |-- ExerciseAngina: string (nullable = true)\n",
            " |-- Oldpeak: double (nullable = true)\n",
            " |-- ST_Slope: string (nullable = true)\n",
            " |-- HeartDisease: integer (nullable = true)\n",
            "\n"
          ]
        }
      ]
    },
    {
      "cell_type": "code",
      "source": [
        "# Pyspark df to Pandas df\n",
        "pd_df = data.toPandas()"
      ],
      "metadata": {
        "id": "hl-C5z1Ngqy6"
      },
      "execution_count": null,
      "outputs": []
    },
    {
      "cell_type": "code",
      "source": [
        "pd_df"
      ],
      "metadata": {
        "colab": {
          "base_uri": "https://localhost:8080/"
        },
        "id": "WUfa85YQhC0r",
        "outputId": "a8f80e84-040a-4733-f580-bcd16df83d44"
      },
      "execution_count": null,
      "outputs": [
        {
          "output_type": "execute_result",
          "data": {
            "text/plain": [
              "      Age Sex ChestPainType  RestingBP  Cholesterol  FastingBS RestingECG  \\\n",
              "0    40.0   M           ATA        140          289          0     Normal   \n",
              "1    49.0   F           NAP        160          180          0     Normal   \n",
              "2    37.0   M           ATA        130          283          0         ST   \n",
              "3    48.0   F           ASY        138          214          0     Normal   \n",
              "4    54.0   M           NAP        150          195          0     Normal   \n",
              "..    ...  ..           ...        ...          ...        ...        ...   \n",
              "913  45.0   M            TA        110          264          0     Normal   \n",
              "914  68.0   M           ASY        144          193          1     Normal   \n",
              "915  57.0   M           ASY        130          131          0     Normal   \n",
              "916  57.0   F           ATA        130          236          0        LVH   \n",
              "917  38.0   M           NAP        138          175          0     Normal   \n",
              "\n",
              "     MaxHR ExerciseAngina  Oldpeak ST_Slope  HeartDisease  \n",
              "0      172              N      0.0       Up             0  \n",
              "1      156              N      1.0     Flat             1  \n",
              "2       98              N      0.0       Up             0  \n",
              "3      108              Y      1.5     Flat             1  \n",
              "4      122              N      0.0       Up             0  \n",
              "..     ...            ...      ...      ...           ...  \n",
              "913    132              N      1.2     Flat             1  \n",
              "914    141              N      3.4     Flat             1  \n",
              "915    115              Y      1.2     Flat             1  \n",
              "916    174              N      0.0     Flat             1  \n",
              "917    173              N      0.0       Up             0  \n",
              "\n",
              "[918 rows x 12 columns]"
            ],
            "text/html": [
              "\n",
              "  <div id=\"df-6cd7d0b8-720f-4b73-b93d-b21b376660ba\" class=\"colab-df-container\">\n",
              "    <div>\n",
              "<style scoped>\n",
              "    .dataframe tbody tr th:only-of-type {\n",
              "        vertical-align: middle;\n",
              "    }\n",
              "\n",
              "    .dataframe tbody tr th {\n",
              "        vertical-align: top;\n",
              "    }\n",
              "\n",
              "    .dataframe thead th {\n",
              "        text-align: right;\n",
              "    }\n",
              "</style>\n",
              "<table border=\"1\" class=\"dataframe\">\n",
              "  <thead>\n",
              "    <tr style=\"text-align: right;\">\n",
              "      <th></th>\n",
              "      <th>Age</th>\n",
              "      <th>Sex</th>\n",
              "      <th>ChestPainType</th>\n",
              "      <th>RestingBP</th>\n",
              "      <th>Cholesterol</th>\n",
              "      <th>FastingBS</th>\n",
              "      <th>RestingECG</th>\n",
              "      <th>MaxHR</th>\n",
              "      <th>ExerciseAngina</th>\n",
              "      <th>Oldpeak</th>\n",
              "      <th>ST_Slope</th>\n",
              "      <th>HeartDisease</th>\n",
              "    </tr>\n",
              "  </thead>\n",
              "  <tbody>\n",
              "    <tr>\n",
              "      <th>0</th>\n",
              "      <td>40.0</td>\n",
              "      <td>M</td>\n",
              "      <td>ATA</td>\n",
              "      <td>140</td>\n",
              "      <td>289</td>\n",
              "      <td>0</td>\n",
              "      <td>Normal</td>\n",
              "      <td>172</td>\n",
              "      <td>N</td>\n",
              "      <td>0.0</td>\n",
              "      <td>Up</td>\n",
              "      <td>0</td>\n",
              "    </tr>\n",
              "    <tr>\n",
              "      <th>1</th>\n",
              "      <td>49.0</td>\n",
              "      <td>F</td>\n",
              "      <td>NAP</td>\n",
              "      <td>160</td>\n",
              "      <td>180</td>\n",
              "      <td>0</td>\n",
              "      <td>Normal</td>\n",
              "      <td>156</td>\n",
              "      <td>N</td>\n",
              "      <td>1.0</td>\n",
              "      <td>Flat</td>\n",
              "      <td>1</td>\n",
              "    </tr>\n",
              "    <tr>\n",
              "      <th>2</th>\n",
              "      <td>37.0</td>\n",
              "      <td>M</td>\n",
              "      <td>ATA</td>\n",
              "      <td>130</td>\n",
              "      <td>283</td>\n",
              "      <td>0</td>\n",
              "      <td>ST</td>\n",
              "      <td>98</td>\n",
              "      <td>N</td>\n",
              "      <td>0.0</td>\n",
              "      <td>Up</td>\n",
              "      <td>0</td>\n",
              "    </tr>\n",
              "    <tr>\n",
              "      <th>3</th>\n",
              "      <td>48.0</td>\n",
              "      <td>F</td>\n",
              "      <td>ASY</td>\n",
              "      <td>138</td>\n",
              "      <td>214</td>\n",
              "      <td>0</td>\n",
              "      <td>Normal</td>\n",
              "      <td>108</td>\n",
              "      <td>Y</td>\n",
              "      <td>1.5</td>\n",
              "      <td>Flat</td>\n",
              "      <td>1</td>\n",
              "    </tr>\n",
              "    <tr>\n",
              "      <th>4</th>\n",
              "      <td>54.0</td>\n",
              "      <td>M</td>\n",
              "      <td>NAP</td>\n",
              "      <td>150</td>\n",
              "      <td>195</td>\n",
              "      <td>0</td>\n",
              "      <td>Normal</td>\n",
              "      <td>122</td>\n",
              "      <td>N</td>\n",
              "      <td>0.0</td>\n",
              "      <td>Up</td>\n",
              "      <td>0</td>\n",
              "    </tr>\n",
              "    <tr>\n",
              "      <th>...</th>\n",
              "      <td>...</td>\n",
              "      <td>...</td>\n",
              "      <td>...</td>\n",
              "      <td>...</td>\n",
              "      <td>...</td>\n",
              "      <td>...</td>\n",
              "      <td>...</td>\n",
              "      <td>...</td>\n",
              "      <td>...</td>\n",
              "      <td>...</td>\n",
              "      <td>...</td>\n",
              "      <td>...</td>\n",
              "    </tr>\n",
              "    <tr>\n",
              "      <th>913</th>\n",
              "      <td>45.0</td>\n",
              "      <td>M</td>\n",
              "      <td>TA</td>\n",
              "      <td>110</td>\n",
              "      <td>264</td>\n",
              "      <td>0</td>\n",
              "      <td>Normal</td>\n",
              "      <td>132</td>\n",
              "      <td>N</td>\n",
              "      <td>1.2</td>\n",
              "      <td>Flat</td>\n",
              "      <td>1</td>\n",
              "    </tr>\n",
              "    <tr>\n",
              "      <th>914</th>\n",
              "      <td>68.0</td>\n",
              "      <td>M</td>\n",
              "      <td>ASY</td>\n",
              "      <td>144</td>\n",
              "      <td>193</td>\n",
              "      <td>1</td>\n",
              "      <td>Normal</td>\n",
              "      <td>141</td>\n",
              "      <td>N</td>\n",
              "      <td>3.4</td>\n",
              "      <td>Flat</td>\n",
              "      <td>1</td>\n",
              "    </tr>\n",
              "    <tr>\n",
              "      <th>915</th>\n",
              "      <td>57.0</td>\n",
              "      <td>M</td>\n",
              "      <td>ASY</td>\n",
              "      <td>130</td>\n",
              "      <td>131</td>\n",
              "      <td>0</td>\n",
              "      <td>Normal</td>\n",
              "      <td>115</td>\n",
              "      <td>Y</td>\n",
              "      <td>1.2</td>\n",
              "      <td>Flat</td>\n",
              "      <td>1</td>\n",
              "    </tr>\n",
              "    <tr>\n",
              "      <th>916</th>\n",
              "      <td>57.0</td>\n",
              "      <td>F</td>\n",
              "      <td>ATA</td>\n",
              "      <td>130</td>\n",
              "      <td>236</td>\n",
              "      <td>0</td>\n",
              "      <td>LVH</td>\n",
              "      <td>174</td>\n",
              "      <td>N</td>\n",
              "      <td>0.0</td>\n",
              "      <td>Flat</td>\n",
              "      <td>1</td>\n",
              "    </tr>\n",
              "    <tr>\n",
              "      <th>917</th>\n",
              "      <td>38.0</td>\n",
              "      <td>M</td>\n",
              "      <td>NAP</td>\n",
              "      <td>138</td>\n",
              "      <td>175</td>\n",
              "      <td>0</td>\n",
              "      <td>Normal</td>\n",
              "      <td>173</td>\n",
              "      <td>N</td>\n",
              "      <td>0.0</td>\n",
              "      <td>Up</td>\n",
              "      <td>0</td>\n",
              "    </tr>\n",
              "  </tbody>\n",
              "</table>\n",
              "<p>918 rows × 12 columns</p>\n",
              "</div>\n",
              "    <div class=\"colab-df-buttons\">\n",
              "\n",
              "  <div class=\"colab-df-container\">\n",
              "    <button class=\"colab-df-convert\" onclick=\"convertToInteractive('df-6cd7d0b8-720f-4b73-b93d-b21b376660ba')\"\n",
              "            title=\"Convert this dataframe to an interactive table.\"\n",
              "            style=\"display:none;\">\n",
              "\n",
              "  <svg xmlns=\"http://www.w3.org/2000/svg\" height=\"24px\" viewBox=\"0 -960 960 960\">\n",
              "    <path d=\"M120-120v-720h720v720H120Zm60-500h600v-160H180v160Zm220 220h160v-160H400v160Zm0 220h160v-160H400v160ZM180-400h160v-160H180v160Zm440 0h160v-160H620v160ZM180-180h160v-160H180v160Zm440 0h160v-160H620v160Z\"/>\n",
              "  </svg>\n",
              "    </button>\n",
              "\n",
              "  <style>\n",
              "    .colab-df-container {\n",
              "      display:flex;\n",
              "      gap: 12px;\n",
              "    }\n",
              "\n",
              "    .colab-df-convert {\n",
              "      background-color: #E8F0FE;\n",
              "      border: none;\n",
              "      border-radius: 50%;\n",
              "      cursor: pointer;\n",
              "      display: none;\n",
              "      fill: #1967D2;\n",
              "      height: 32px;\n",
              "      padding: 0 0 0 0;\n",
              "      width: 32px;\n",
              "    }\n",
              "\n",
              "    .colab-df-convert:hover {\n",
              "      background-color: #E2EBFA;\n",
              "      box-shadow: 0px 1px 2px rgba(60, 64, 67, 0.3), 0px 1px 3px 1px rgba(60, 64, 67, 0.15);\n",
              "      fill: #174EA6;\n",
              "    }\n",
              "\n",
              "    .colab-df-buttons div {\n",
              "      margin-bottom: 4px;\n",
              "    }\n",
              "\n",
              "    [theme=dark] .colab-df-convert {\n",
              "      background-color: #3B4455;\n",
              "      fill: #D2E3FC;\n",
              "    }\n",
              "\n",
              "    [theme=dark] .colab-df-convert:hover {\n",
              "      background-color: #434B5C;\n",
              "      box-shadow: 0px 1px 3px 1px rgba(0, 0, 0, 0.15);\n",
              "      filter: drop-shadow(0px 1px 2px rgba(0, 0, 0, 0.3));\n",
              "      fill: #FFFFFF;\n",
              "    }\n",
              "  </style>\n",
              "\n",
              "    <script>\n",
              "      const buttonEl =\n",
              "        document.querySelector('#df-6cd7d0b8-720f-4b73-b93d-b21b376660ba button.colab-df-convert');\n",
              "      buttonEl.style.display =\n",
              "        google.colab.kernel.accessAllowed ? 'block' : 'none';\n",
              "\n",
              "      async function convertToInteractive(key) {\n",
              "        const element = document.querySelector('#df-6cd7d0b8-720f-4b73-b93d-b21b376660ba');\n",
              "        const dataTable =\n",
              "          await google.colab.kernel.invokeFunction('convertToInteractive',\n",
              "                                                    [key], {});\n",
              "        if (!dataTable) return;\n",
              "\n",
              "        const docLinkHtml = 'Like what you see? Visit the ' +\n",
              "          '<a target=\"_blank\" href=https://colab.research.google.com/notebooks/data_table.ipynb>data table notebook</a>'\n",
              "          + ' to learn more about interactive tables.';\n",
              "        element.innerHTML = '';\n",
              "        dataTable['output_type'] = 'display_data';\n",
              "        await google.colab.output.renderOutput(dataTable, element);\n",
              "        const docLink = document.createElement('div');\n",
              "        docLink.innerHTML = docLinkHtml;\n",
              "        element.appendChild(docLink);\n",
              "      }\n",
              "    </script>\n",
              "  </div>\n",
              "\n",
              "\n",
              "<div id=\"df-30857dd8-aa76-4f2b-bd68-cfd1ee059f7c\">\n",
              "  <button class=\"colab-df-quickchart\" onclick=\"quickchart('df-30857dd8-aa76-4f2b-bd68-cfd1ee059f7c')\"\n",
              "            title=\"Suggest charts\"\n",
              "            style=\"display:none;\">\n",
              "\n",
              "<svg xmlns=\"http://www.w3.org/2000/svg\" height=\"24px\"viewBox=\"0 0 24 24\"\n",
              "     width=\"24px\">\n",
              "    <g>\n",
              "        <path d=\"M19 3H5c-1.1 0-2 .9-2 2v14c0 1.1.9 2 2 2h14c1.1 0 2-.9 2-2V5c0-1.1-.9-2-2-2zM9 17H7v-7h2v7zm4 0h-2V7h2v10zm4 0h-2v-4h2v4z\"/>\n",
              "    </g>\n",
              "</svg>\n",
              "  </button>\n",
              "\n",
              "<style>\n",
              "  .colab-df-quickchart {\n",
              "      --bg-color: #E8F0FE;\n",
              "      --fill-color: #1967D2;\n",
              "      --hover-bg-color: #E2EBFA;\n",
              "      --hover-fill-color: #174EA6;\n",
              "      --disabled-fill-color: #AAA;\n",
              "      --disabled-bg-color: #DDD;\n",
              "  }\n",
              "\n",
              "  [theme=dark] .colab-df-quickchart {\n",
              "      --bg-color: #3B4455;\n",
              "      --fill-color: #D2E3FC;\n",
              "      --hover-bg-color: #434B5C;\n",
              "      --hover-fill-color: #FFFFFF;\n",
              "      --disabled-bg-color: #3B4455;\n",
              "      --disabled-fill-color: #666;\n",
              "  }\n",
              "\n",
              "  .colab-df-quickchart {\n",
              "    background-color: var(--bg-color);\n",
              "    border: none;\n",
              "    border-radius: 50%;\n",
              "    cursor: pointer;\n",
              "    display: none;\n",
              "    fill: var(--fill-color);\n",
              "    height: 32px;\n",
              "    padding: 0;\n",
              "    width: 32px;\n",
              "  }\n",
              "\n",
              "  .colab-df-quickchart:hover {\n",
              "    background-color: var(--hover-bg-color);\n",
              "    box-shadow: 0 1px 2px rgba(60, 64, 67, 0.3), 0 1px 3px 1px rgba(60, 64, 67, 0.15);\n",
              "    fill: var(--button-hover-fill-color);\n",
              "  }\n",
              "\n",
              "  .colab-df-quickchart-complete:disabled,\n",
              "  .colab-df-quickchart-complete:disabled:hover {\n",
              "    background-color: var(--disabled-bg-color);\n",
              "    fill: var(--disabled-fill-color);\n",
              "    box-shadow: none;\n",
              "  }\n",
              "\n",
              "  .colab-df-spinner {\n",
              "    border: 2px solid var(--fill-color);\n",
              "    border-color: transparent;\n",
              "    border-bottom-color: var(--fill-color);\n",
              "    animation:\n",
              "      spin 1s steps(1) infinite;\n",
              "  }\n",
              "\n",
              "  @keyframes spin {\n",
              "    0% {\n",
              "      border-color: transparent;\n",
              "      border-bottom-color: var(--fill-color);\n",
              "      border-left-color: var(--fill-color);\n",
              "    }\n",
              "    20% {\n",
              "      border-color: transparent;\n",
              "      border-left-color: var(--fill-color);\n",
              "      border-top-color: var(--fill-color);\n",
              "    }\n",
              "    30% {\n",
              "      border-color: transparent;\n",
              "      border-left-color: var(--fill-color);\n",
              "      border-top-color: var(--fill-color);\n",
              "      border-right-color: var(--fill-color);\n",
              "    }\n",
              "    40% {\n",
              "      border-color: transparent;\n",
              "      border-right-color: var(--fill-color);\n",
              "      border-top-color: var(--fill-color);\n",
              "    }\n",
              "    60% {\n",
              "      border-color: transparent;\n",
              "      border-right-color: var(--fill-color);\n",
              "    }\n",
              "    80% {\n",
              "      border-color: transparent;\n",
              "      border-right-color: var(--fill-color);\n",
              "      border-bottom-color: var(--fill-color);\n",
              "    }\n",
              "    90% {\n",
              "      border-color: transparent;\n",
              "      border-bottom-color: var(--fill-color);\n",
              "    }\n",
              "  }\n",
              "</style>\n",
              "\n",
              "  <script>\n",
              "    async function quickchart(key) {\n",
              "      const quickchartButtonEl =\n",
              "        document.querySelector('#' + key + ' button');\n",
              "      quickchartButtonEl.disabled = true;  // To prevent multiple clicks.\n",
              "      quickchartButtonEl.classList.add('colab-df-spinner');\n",
              "      try {\n",
              "        const charts = await google.colab.kernel.invokeFunction(\n",
              "            'suggestCharts', [key], {});\n",
              "      } catch (error) {\n",
              "        console.error('Error during call to suggestCharts:', error);\n",
              "      }\n",
              "      quickchartButtonEl.classList.remove('colab-df-spinner');\n",
              "      quickchartButtonEl.classList.add('colab-df-quickchart-complete');\n",
              "    }\n",
              "    (() => {\n",
              "      let quickchartButtonEl =\n",
              "        document.querySelector('#df-30857dd8-aa76-4f2b-bd68-cfd1ee059f7c button');\n",
              "      quickchartButtonEl.style.display =\n",
              "        google.colab.kernel.accessAllowed ? 'block' : 'none';\n",
              "    })();\n",
              "  </script>\n",
              "</div>\n",
              "    </div>\n",
              "  </div>\n"
            ],
            "application/vnd.google.colaboratory.intrinsic+json": {
              "type": "dataframe",
              "variable_name": "pd_df",
              "summary": "{\n  \"name\": \"pd_df\",\n  \"rows\": 918,\n  \"fields\": [\n    {\n      \"column\": \"Age\",\n      \"properties\": {\n        \"dtype\": \"float32\",\n        \"num_unique_values\": 50,\n        \"samples\": [\n          44.0,\n          68.0,\n          66.0\n        ],\n        \"semantic_type\": \"\",\n        \"description\": \"\"\n      }\n    },\n    {\n      \"column\": \"Sex\",\n      \"properties\": {\n        \"dtype\": \"category\",\n        \"num_unique_values\": 2,\n        \"samples\": [\n          \"F\",\n          \"M\"\n        ],\n        \"semantic_type\": \"\",\n        \"description\": \"\"\n      }\n    },\n    {\n      \"column\": \"ChestPainType\",\n      \"properties\": {\n        \"dtype\": \"category\",\n        \"num_unique_values\": 4,\n        \"samples\": [\n          \"NAP\",\n          \"TA\"\n        ],\n        \"semantic_type\": \"\",\n        \"description\": \"\"\n      }\n    },\n    {\n      \"column\": \"RestingBP\",\n      \"properties\": {\n        \"dtype\": \"int32\",\n        \"num_unique_values\": 67,\n        \"samples\": [\n          165,\n          118\n        ],\n        \"semantic_type\": \"\",\n        \"description\": \"\"\n      }\n    },\n    {\n      \"column\": \"Cholesterol\",\n      \"properties\": {\n        \"dtype\": \"int32\",\n        \"num_unique_values\": 222,\n        \"samples\": [\n          305,\n          321\n        ],\n        \"semantic_type\": \"\",\n        \"description\": \"\"\n      }\n    },\n    {\n      \"column\": \"FastingBS\",\n      \"properties\": {\n        \"dtype\": \"int32\",\n        \"num_unique_values\": 2,\n        \"samples\": [\n          1,\n          0\n        ],\n        \"semantic_type\": \"\",\n        \"description\": \"\"\n      }\n    },\n    {\n      \"column\": \"RestingECG\",\n      \"properties\": {\n        \"dtype\": \"category\",\n        \"num_unique_values\": 3,\n        \"samples\": [\n          \"Normal\",\n          \"ST\"\n        ],\n        \"semantic_type\": \"\",\n        \"description\": \"\"\n      }\n    },\n    {\n      \"column\": \"MaxHR\",\n      \"properties\": {\n        \"dtype\": \"int32\",\n        \"num_unique_values\": 119,\n        \"samples\": [\n          132,\n          157\n        ],\n        \"semantic_type\": \"\",\n        \"description\": \"\"\n      }\n    },\n    {\n      \"column\": \"ExerciseAngina\",\n      \"properties\": {\n        \"dtype\": \"category\",\n        \"num_unique_values\": 2,\n        \"samples\": [\n          \"Y\",\n          \"N\"\n        ],\n        \"semantic_type\": \"\",\n        \"description\": \"\"\n      }\n    },\n    {\n      \"column\": \"Oldpeak\",\n      \"properties\": {\n        \"dtype\": \"number\",\n        \"std\": 1.0665701510493257,\n        \"min\": -2.6,\n        \"max\": 6.2,\n        \"num_unique_values\": 53,\n        \"samples\": [\n          1.3,\n          0.6\n        ],\n        \"semantic_type\": \"\",\n        \"description\": \"\"\n      }\n    },\n    {\n      \"column\": \"ST_Slope\",\n      \"properties\": {\n        \"dtype\": \"category\",\n        \"num_unique_values\": 3,\n        \"samples\": [\n          \"Up\",\n          \"Flat\"\n        ],\n        \"semantic_type\": \"\",\n        \"description\": \"\"\n      }\n    },\n    {\n      \"column\": \"HeartDisease\",\n      \"properties\": {\n        \"dtype\": \"int32\",\n        \"num_unique_values\": 2,\n        \"samples\": [\n          1,\n          0\n        ],\n        \"semantic_type\": \"\",\n        \"description\": \"\"\n      }\n    }\n  ]\n}"
            }
          },
          "metadata": {},
          "execution_count": 22
        }
      ]
    },
    {
      "cell_type": "code",
      "source": [
        "df_sp = spark.createDataFrame(pd_df) # Pandas df to Spark df"
      ],
      "metadata": {
        "id": "bzyixKt7hDzU"
      },
      "execution_count": null,
      "outputs": []
    },
    {
      "cell_type": "code",
      "source": [
        "type(df_sp)"
      ],
      "metadata": {
        "colab": {
          "base_uri": "https://localhost:8080/"
        },
        "id": "LU-aITwchU3s",
        "outputId": "7a36b6f0-2b07-48a0-f867-edb479463fd4"
      },
      "execution_count": null,
      "outputs": [
        {
          "output_type": "execute_result",
          "data": {
            "text/plain": [
              "pyspark.sql.dataframe.DataFrame"
            ],
            "text/html": [
              "<div style=\"max-width:800px; border: 1px solid var(--colab-border-color);\"><style>\n",
              "      pre.function-repr-contents {\n",
              "        overflow-x: auto;\n",
              "        padding: 8px 12px;\n",
              "        max-height: 500px;\n",
              "      }\n",
              "\n",
              "      pre.function-repr-contents.function-repr-contents-collapsed {\n",
              "        cursor: pointer;\n",
              "        max-height: 100px;\n",
              "      }\n",
              "    </style>\n",
              "    <pre style=\"white-space: initial; background:\n",
              "         var(--colab-secondary-surface-color); padding: 8px 12px;\n",
              "         border-bottom: 1px solid var(--colab-border-color);\"><b>pyspark.sql.dataframe.DataFrame</b><br/>def __init__(jdf: JavaObject, sql_ctx: Union[&#x27;SQLContext&#x27;, &#x27;SparkSession&#x27;])</pre><pre class=\"function-repr-contents function-repr-contents-collapsed\" style=\"\"><a class=\"filepath\" style=\"display:none\" href=\"#\">/usr/local/lib/python3.10/dist-packages/pyspark/sql/dataframe.py</a>A distributed collection of data grouped into named columns.\n",
              "\n",
              ".. versionadded:: 1.3.0\n",
              "\n",
              ".. versionchanged:: 3.4.0\n",
              "    Supports Spark Connect.\n",
              "\n",
              "Examples\n",
              "--------\n",
              "A :class:`DataFrame` is equivalent to a relational table in Spark SQL,\n",
              "and can be created using various functions in :class:`SparkSession`:\n",
              "\n",
              "&gt;&gt;&gt; people = spark.createDataFrame([\n",
              "...     {&quot;deptId&quot;: 1, &quot;age&quot;: 40, &quot;name&quot;: &quot;Hyukjin Kwon&quot;, &quot;gender&quot;: &quot;M&quot;, &quot;salary&quot;: 50},\n",
              "...     {&quot;deptId&quot;: 1, &quot;age&quot;: 50, &quot;name&quot;: &quot;Takuya Ueshin&quot;, &quot;gender&quot;: &quot;M&quot;, &quot;salary&quot;: 100},\n",
              "...     {&quot;deptId&quot;: 2, &quot;age&quot;: 60, &quot;name&quot;: &quot;Xinrong Meng&quot;, &quot;gender&quot;: &quot;F&quot;, &quot;salary&quot;: 150},\n",
              "...     {&quot;deptId&quot;: 3, &quot;age&quot;: 20, &quot;name&quot;: &quot;Haejoon Lee&quot;, &quot;gender&quot;: &quot;M&quot;, &quot;salary&quot;: 200}\n",
              "... ])\n",
              "\n",
              "Once created, it can be manipulated using the various domain-specific-language\n",
              "(DSL) functions defined in: :class:`DataFrame`, :class:`Column`.\n",
              "\n",
              "To select a column from the :class:`DataFrame`, use the apply method:\n",
              "\n",
              "&gt;&gt;&gt; age_col = people.age\n",
              "\n",
              "A more concrete example:\n",
              "\n",
              "&gt;&gt;&gt; # To create DataFrame using SparkSession\n",
              "... department = spark.createDataFrame([\n",
              "...     {&quot;id&quot;: 1, &quot;name&quot;: &quot;PySpark&quot;},\n",
              "...     {&quot;id&quot;: 2, &quot;name&quot;: &quot;ML&quot;},\n",
              "...     {&quot;id&quot;: 3, &quot;name&quot;: &quot;Spark SQL&quot;}\n",
              "... ])\n",
              "\n",
              "&gt;&gt;&gt; people.filter(people.age &gt; 30).join(\n",
              "...     department, people.deptId == department.id).groupBy(\n",
              "...     department.name, &quot;gender&quot;).agg({&quot;salary&quot;: &quot;avg&quot;, &quot;age&quot;: &quot;max&quot;}).show()\n",
              "+-------+------+-----------+--------+\n",
              "|   name|gender|avg(salary)|max(age)|\n",
              "+-------+------+-----------+--------+\n",
              "|     ML|     F|      150.0|      60|\n",
              "|PySpark|     M|       75.0|      50|\n",
              "+-------+------+-----------+--------+\n",
              "\n",
              "Notes\n",
              "-----\n",
              "A DataFrame should only be created as described above. It should not be directly\n",
              "created via using the constructor.</pre>\n",
              "      <script>\n",
              "      if (google.colab.kernel.accessAllowed && google.colab.files && google.colab.files.view) {\n",
              "        for (const element of document.querySelectorAll('.filepath')) {\n",
              "          element.style.display = 'block'\n",
              "          element.onclick = (event) => {\n",
              "            event.preventDefault();\n",
              "            event.stopPropagation();\n",
              "            google.colab.files.view(element.textContent, 80);\n",
              "          };\n",
              "        }\n",
              "      }\n",
              "      for (const element of document.querySelectorAll('.function-repr-contents')) {\n",
              "        element.onclick = (event) => {\n",
              "          event.preventDefault();\n",
              "          event.stopPropagation();\n",
              "          element.classList.toggle('function-repr-contents-collapsed');\n",
              "        };\n",
              "      }\n",
              "      </script>\n",
              "      </div>"
            ]
          },
          "metadata": {},
          "execution_count": 24
        }
      ]
    },
    {
      "cell_type": "markdown",
      "source": [
        "## Convert Features"
      ],
      "metadata": {
        "id": "qAKyGdNo_CwZ"
      }
    },
    {
      "cell_type": "code",
      "source": [
        "data.show()"
      ],
      "metadata": {
        "colab": {
          "base_uri": "https://localhost:8080/"
        },
        "id": "sYfRNJ0B_Vx-",
        "outputId": "079b9c68-d3c4-4d9a-f81d-30c68bbab91a"
      },
      "execution_count": null,
      "outputs": [
        {
          "output_type": "stream",
          "name": "stdout",
          "text": [
            "+---+---+-------------+---------+-----------+---------+----------+-----+--------------+-------+--------+------------+\n",
            "|Age|Sex|ChestPainType|RestingBP|Cholesterol|FastingBS|RestingECG|MaxHR|ExerciseAngina|Oldpeak|ST_Slope|HeartDisease|\n",
            "+---+---+-------------+---------+-----------+---------+----------+-----+--------------+-------+--------+------------+\n",
            "| 40|  M|          ATA|      140|        289|        0|    Normal|  172|             N|    0.0|      Up|           0|\n",
            "| 49|  F|          NAP|      160|        180|        0|    Normal|  156|             N|    1.0|    Flat|           1|\n",
            "| 37|  M|          ATA|      130|        283|        0|        ST|   98|             N|    0.0|      Up|           0|\n",
            "| 48|  F|          ASY|      138|        214|        0|    Normal|  108|             Y|    1.5|    Flat|           1|\n",
            "| 54|  M|          NAP|      150|        195|        0|    Normal|  122|             N|    0.0|      Up|           0|\n",
            "| 39|  M|          NAP|      120|        339|        0|    Normal|  170|             N|    0.0|      Up|           0|\n",
            "| 45|  F|          ATA|      130|        237|        0|    Normal|  170|             N|    0.0|      Up|           0|\n",
            "| 54|  M|          ATA|      110|        208|        0|    Normal|  142|             N|    0.0|      Up|           0|\n",
            "| 37|  M|          ASY|      140|        207|        0|    Normal|  130|             Y|    1.5|    Flat|           1|\n",
            "| 48|  F|          ATA|      120|        284|        0|    Normal|  120|             N|    0.0|      Up|           0|\n",
            "| 37|  F|          NAP|      130|        211|        0|    Normal|  142|             N|    0.0|      Up|           0|\n",
            "| 58|  M|          ATA|      136|        164|        0|        ST|   99|             Y|    2.0|    Flat|           1|\n",
            "| 39|  M|          ATA|      120|        204|        0|    Normal|  145|             N|    0.0|      Up|           0|\n",
            "| 49|  M|          ASY|      140|        234|        0|    Normal|  140|             Y|    1.0|    Flat|           1|\n",
            "| 42|  F|          NAP|      115|        211|        0|        ST|  137|             N|    0.0|      Up|           0|\n",
            "| 54|  F|          ATA|      120|        273|        0|    Normal|  150|             N|    1.5|    Flat|           0|\n",
            "| 38|  M|          ASY|      110|        196|        0|    Normal|  166|             N|    0.0|    Flat|           1|\n",
            "| 43|  F|          ATA|      120|        201|        0|    Normal|  165|             N|    0.0|      Up|           0|\n",
            "| 60|  M|          ASY|      100|        248|        0|    Normal|  125|             N|    1.0|    Flat|           1|\n",
            "| 36|  M|          ATA|      120|        267|        0|    Normal|  160|             N|    3.0|    Flat|           1|\n",
            "+---+---+-------------+---------+-----------+---------+----------+-----+--------------+-------+--------+------------+\n",
            "only showing top 20 rows\n",
            "\n"
          ]
        }
      ]
    },
    {
      "cell_type": "code",
      "source": [
        "from pyspark.ml.feature import StringIndexer\n",
        "strindexer = StringIndexer(inputCols=['Sex','ChestPainType','RestingECG','ExerciseAngina','ST_Slope']\n",
        "                           ,outputCols=['gender','ChestPain','Resting','Exercise','Slope'])"
      ],
      "metadata": {
        "id": "yhKtXbxh_chI"
      },
      "execution_count": null,
      "outputs": []
    },
    {
      "cell_type": "code",
      "source": [
        "index_data = strindexer.fit(data)"
      ],
      "metadata": {
        "id": "9Hn_GOb3Augp"
      },
      "execution_count": null,
      "outputs": []
    },
    {
      "cell_type": "code",
      "source": [
        "new_data = index_data.transform(data)"
      ],
      "metadata": {
        "id": "dpk3XuwwA1vA"
      },
      "execution_count": null,
      "outputs": []
    },
    {
      "cell_type": "code",
      "source": [
        "new_data.show()"
      ],
      "metadata": {
        "colab": {
          "base_uri": "https://localhost:8080/"
        },
        "id": "uhLjBp8HA94f",
        "outputId": "2e7741f6-d91b-4949-e5c0-cce4382b8dc4"
      },
      "execution_count": null,
      "outputs": [
        {
          "output_type": "stream",
          "name": "stdout",
          "text": [
            "+---+---+-------------+---------+-----------+---------+----------+-----+--------------+-------+--------+------------+------+---------+-------+--------+-----+\n",
            "|Age|Sex|ChestPainType|RestingBP|Cholesterol|FastingBS|RestingECG|MaxHR|ExerciseAngina|Oldpeak|ST_Slope|HeartDisease|gender|ChestPain|Resting|Exercise|Slope|\n",
            "+---+---+-------------+---------+-----------+---------+----------+-----+--------------+-------+--------+------------+------+---------+-------+--------+-----+\n",
            "| 40|  M|          ATA|      140|        289|        0|    Normal|  172|             N|    0.0|      Up|           0|   0.0|      2.0|    0.0|     0.0|  1.0|\n",
            "| 49|  F|          NAP|      160|        180|        0|    Normal|  156|             N|    1.0|    Flat|           1|   1.0|      1.0|    0.0|     0.0|  0.0|\n",
            "| 37|  M|          ATA|      130|        283|        0|        ST|   98|             N|    0.0|      Up|           0|   0.0|      2.0|    2.0|     0.0|  1.0|\n",
            "| 48|  F|          ASY|      138|        214|        0|    Normal|  108|             Y|    1.5|    Flat|           1|   1.0|      0.0|    0.0|     1.0|  0.0|\n",
            "| 54|  M|          NAP|      150|        195|        0|    Normal|  122|             N|    0.0|      Up|           0|   0.0|      1.0|    0.0|     0.0|  1.0|\n",
            "| 39|  M|          NAP|      120|        339|        0|    Normal|  170|             N|    0.0|      Up|           0|   0.0|      1.0|    0.0|     0.0|  1.0|\n",
            "| 45|  F|          ATA|      130|        237|        0|    Normal|  170|             N|    0.0|      Up|           0|   1.0|      2.0|    0.0|     0.0|  1.0|\n",
            "| 54|  M|          ATA|      110|        208|        0|    Normal|  142|             N|    0.0|      Up|           0|   0.0|      2.0|    0.0|     0.0|  1.0|\n",
            "| 37|  M|          ASY|      140|        207|        0|    Normal|  130|             Y|    1.5|    Flat|           1|   0.0|      0.0|    0.0|     1.0|  0.0|\n",
            "| 48|  F|          ATA|      120|        284|        0|    Normal|  120|             N|    0.0|      Up|           0|   1.0|      2.0|    0.0|     0.0|  1.0|\n",
            "| 37|  F|          NAP|      130|        211|        0|    Normal|  142|             N|    0.0|      Up|           0|   1.0|      1.0|    0.0|     0.0|  1.0|\n",
            "| 58|  M|          ATA|      136|        164|        0|        ST|   99|             Y|    2.0|    Flat|           1|   0.0|      2.0|    2.0|     1.0|  0.0|\n",
            "| 39|  M|          ATA|      120|        204|        0|    Normal|  145|             N|    0.0|      Up|           0|   0.0|      2.0|    0.0|     0.0|  1.0|\n",
            "| 49|  M|          ASY|      140|        234|        0|    Normal|  140|             Y|    1.0|    Flat|           1|   0.0|      0.0|    0.0|     1.0|  0.0|\n",
            "| 42|  F|          NAP|      115|        211|        0|        ST|  137|             N|    0.0|      Up|           0|   1.0|      1.0|    2.0|     0.0|  1.0|\n",
            "| 54|  F|          ATA|      120|        273|        0|    Normal|  150|             N|    1.5|    Flat|           0|   1.0|      2.0|    0.0|     0.0|  0.0|\n",
            "| 38|  M|          ASY|      110|        196|        0|    Normal|  166|             N|    0.0|    Flat|           1|   0.0|      0.0|    0.0|     0.0|  0.0|\n",
            "| 43|  F|          ATA|      120|        201|        0|    Normal|  165|             N|    0.0|      Up|           0|   1.0|      2.0|    0.0|     0.0|  1.0|\n",
            "| 60|  M|          ASY|      100|        248|        0|    Normal|  125|             N|    1.0|    Flat|           1|   0.0|      0.0|    0.0|     0.0|  0.0|\n",
            "| 36|  M|          ATA|      120|        267|        0|    Normal|  160|             N|    3.0|    Flat|           1|   0.0|      2.0|    0.0|     0.0|  0.0|\n",
            "+---+---+-------------+---------+-----------+---------+----------+-----+--------------+-------+--------+------------+------+---------+-------+--------+-----+\n",
            "only showing top 20 rows\n",
            "\n"
          ]
        }
      ]
    },
    {
      "cell_type": "markdown",
      "source": [
        "## Missin Value"
      ],
      "metadata": {
        "id": "g1fA6ehajtJL"
      }
    },
    {
      "cell_type": "code",
      "source": [
        "df = spark.read.csv('/content/melb_data.csv',header=True,inferSchema=True)"
      ],
      "metadata": {
        "id": "TtF8Sk4XjvDT"
      },
      "execution_count": null,
      "outputs": []
    },
    {
      "cell_type": "code",
      "source": [
        "df.show(3)"
      ],
      "metadata": {
        "colab": {
          "base_uri": "https://localhost:8080/"
        },
        "id": "2miEFlzclp-U",
        "outputId": "136e9f70-e4dd-4db8-fc21-7ec48648d5a0"
      },
      "execution_count": null,
      "outputs": [
        {
          "output_type": "stream",
          "name": "stdout",
          "text": [
            "+---+----------+---------------+-----+----+---------+------+-------+---------+--------+--------+--------+--------+---+--------+------------+---------+-----------+---------+----------+--------------------+-------------+\n",
            "|_c0|    Suburb|        Address|Rooms|Type|    Price|Method|SellerG|     Date|Distance|Postcode|Bedroom2|Bathroom|Car|Landsize|BuildingArea|YearBuilt|CouncilArea|Lattitude|Longtitude|          Regionname|Propertycount|\n",
            "+---+----------+---------------+-----+----+---------+------+-------+---------+--------+--------+--------+--------+---+--------+------------+---------+-----------+---------+----------+--------------------+-------------+\n",
            "|  1|Abbotsford|   85 Turner St|    2|   h|1480000.0|     S| Biggin|3/12/2016|     2.5|  3067.0|     2.0|     1.0|1.0|   202.0|        NULL|     NULL|      Yarra| -37.7996|  144.9984|Northern Metropol...|       4019.0|\n",
            "|  2|Abbotsford|25 Bloomburg St|    2|   h|1035000.0|     S| Biggin|4/02/2016|     2.5|  3067.0|     2.0|     1.0|0.0|   156.0|        79.0|   1900.0|      Yarra| -37.8079|  144.9934|Northern Metropol...|       4019.0|\n",
            "|  4|Abbotsford|   5 Charles St|    3|   h|1465000.0|    SP| Biggin|4/03/2017|     2.5|  3067.0|     3.0|     2.0|0.0|   134.0|       150.0|   1900.0|      Yarra| -37.8093|  144.9944|Northern Metropol...|       4019.0|\n",
            "+---+----------+---------------+-----+----+---------+------+-------+---------+--------+--------+--------+--------+---+--------+------------+---------+-----------+---------+----------+--------------------+-------------+\n",
            "only showing top 3 rows\n",
            "\n"
          ]
        }
      ]
    },
    {
      "cell_type": "code",
      "source": [
        "df.na.drop(how='all').show(2)"
      ],
      "metadata": {
        "colab": {
          "base_uri": "https://localhost:8080/"
        },
        "id": "3oAsPRgrl1yV",
        "outputId": "8b0fdde9-ad52-4760-fb11-8d5c41c71150"
      },
      "execution_count": null,
      "outputs": [
        {
          "output_type": "stream",
          "name": "stdout",
          "text": [
            "+---+----------+---------------+-----+----+---------+------+-------+---------+--------+--------+--------+--------+---+--------+------------+---------+-----------+---------+----------+--------------------+-------------+\n",
            "|_c0|    Suburb|        Address|Rooms|Type|    Price|Method|SellerG|     Date|Distance|Postcode|Bedroom2|Bathroom|Car|Landsize|BuildingArea|YearBuilt|CouncilArea|Lattitude|Longtitude|          Regionname|Propertycount|\n",
            "+---+----------+---------------+-----+----+---------+------+-------+---------+--------+--------+--------+--------+---+--------+------------+---------+-----------+---------+----------+--------------------+-------------+\n",
            "|  1|Abbotsford|   85 Turner St|    2|   h|1480000.0|     S| Biggin|3/12/2016|     2.5|  3067.0|     2.0|     1.0|1.0|   202.0|        NULL|     NULL|      Yarra| -37.7996|  144.9984|Northern Metropol...|       4019.0|\n",
            "|  2|Abbotsford|25 Bloomburg St|    2|   h|1035000.0|     S| Biggin|4/02/2016|     2.5|  3067.0|     2.0|     1.0|0.0|   156.0|        79.0|   1900.0|      Yarra| -37.8079|  144.9934|Northern Metropol...|       4019.0|\n",
            "+---+----------+---------------+-----+----+---------+------+-------+---------+--------+--------+--------+--------+---+--------+------------+---------+-----------+---------+----------+--------------------+-------------+\n",
            "only showing top 2 rows\n",
            "\n"
          ]
        }
      ]
    },
    {
      "cell_type": "code",
      "source": [
        "shape(df)"
      ],
      "metadata": {
        "colab": {
          "base_uri": "https://localhost:8080/"
        },
        "id": "7A0qg9uTsDhC",
        "outputId": "748e7acc-cc59-4bb3-c78e-6d31c09d39d5"
      },
      "execution_count": null,
      "outputs": [
        {
          "output_type": "stream",
          "name": "stdout",
          "text": [
            "(18396, 22)\n"
          ]
        }
      ]
    },
    {
      "cell_type": "code",
      "source": [
        "df.na.fill(value='NaN')"
      ],
      "metadata": {
        "colab": {
          "base_uri": "https://localhost:8080/"
        },
        "id": "AZdU51T0mRAb",
        "outputId": "528a5d41-0738-411b-8ef9-a2a05fc2d087"
      },
      "execution_count": null,
      "outputs": [
        {
          "output_type": "execute_result",
          "data": {
            "text/plain": [
              "DataFrame[_c0: int, Suburb: string, Address: string, Rooms: int, Type: string, Price: double, Method: string, SellerG: string, Date: string, Distance: double, Postcode: double, Bedroom2: double, Bathroom: double, Car: double, Landsize: double, BuildingArea: double, YearBuilt: double, CouncilArea: string, Lattitude: double, Longtitude: double, Regionname: string, Propertycount: double]"
            ]
          },
          "metadata": {},
          "execution_count": 37
        }
      ]
    },
    {
      "cell_type": "code",
      "source": [
        "from pyspark.ml.feature import Imputer"
      ],
      "metadata": {
        "id": "gvG5Z7U7nJfk"
      },
      "execution_count": null,
      "outputs": []
    },
    {
      "cell_type": "code",
      "source": [
        "impute = Imputer(inputCols=['Rooms','Distance'],\n",
        "        outputCols=['Rooms','Distance']).setStrategy('mode')\n",
        "impute.fit(df).transform(df)"
      ],
      "metadata": {
        "colab": {
          "base_uri": "https://localhost:8080/"
        },
        "id": "zHNTEl_6psqs",
        "outputId": "39ff8028-e2c8-4a88-9323-6157bfc658d4"
      },
      "execution_count": null,
      "outputs": [
        {
          "output_type": "execute_result",
          "data": {
            "text/plain": [
              "DataFrame[_c0: int, Suburb: string, Address: string, Rooms: int, Type: string, Price: double, Method: string, SellerG: string, Date: string, Distance: double, Postcode: double, Bedroom2: double, Bathroom: double, Car: double, Landsize: double, BuildingArea: double, YearBuilt: double, CouncilArea: string, Lattitude: double, Longtitude: double, Regionname: string, Propertycount: double]"
            ]
          },
          "metadata": {},
          "execution_count": 42
        }
      ]
    },
    {
      "cell_type": "markdown",
      "source": [
        "## Join datssets"
      ],
      "metadata": {
        "id": "wsa6KTVq1UNn"
      }
    },
    {
      "cell_type": "code",
      "source": [
        "from pyspark.sql.functions import monotonically_increasing_id"
      ],
      "metadata": {
        "id": "DV_xWTPy03rJ"
      },
      "execution_count": null,
      "outputs": []
    },
    {
      "cell_type": "code",
      "source": [
        "new_data = new_data.withColumn('index', monotonically_increasing_id())\n",
        "new_data.show(5)"
      ],
      "metadata": {
        "colab": {
          "base_uri": "https://localhost:8080/"
        },
        "id": "nDCghci606bK",
        "outputId": "201b17d5-cfae-4fc4-ea3b-acc7777db72c"
      },
      "execution_count": null,
      "outputs": [
        {
          "output_type": "stream",
          "name": "stdout",
          "text": [
            "+---+---+-------------+---------+-----------+---------+----------+-----+--------------+-------+--------+------------+------+---------+-------+--------+-----+-----+\n",
            "|Age|Sex|ChestPainType|RestingBP|Cholesterol|FastingBS|RestingECG|MaxHR|ExerciseAngina|Oldpeak|ST_Slope|HeartDisease|gender|ChestPain|Resting|Exercise|Slope|index|\n",
            "+---+---+-------------+---------+-----------+---------+----------+-----+--------------+-------+--------+------------+------+---------+-------+--------+-----+-----+\n",
            "| 40|  M|          ATA|      140|        289|        0|    Normal|  172|             N|    0.0|      Up|           0|   0.0|      2.0|    0.0|     0.0|  1.0|    0|\n",
            "| 49|  F|          NAP|      160|        180|        0|    Normal|  156|             N|    1.0|    Flat|           1|   1.0|      1.0|    0.0|     0.0|  0.0|    1|\n",
            "| 37|  M|          ATA|      130|        283|        0|        ST|   98|             N|    0.0|      Up|           0|   0.0|      2.0|    2.0|     0.0|  1.0|    2|\n",
            "| 48|  F|          ASY|      138|        214|        0|    Normal|  108|             Y|    1.5|    Flat|           1|   1.0|      0.0|    0.0|     1.0|  0.0|    3|\n",
            "| 54|  M|          NAP|      150|        195|        0|    Normal|  122|             N|    0.0|      Up|           0|   0.0|      1.0|    0.0|     0.0|  1.0|    4|\n",
            "+---+---+-------------+---------+-----------+---------+----------+-----+--------------+-------+--------+------------+------+---------+-------+--------+-----+-----+\n",
            "only showing top 5 rows\n",
            "\n"
          ]
        }
      ]
    },
    {
      "cell_type": "code",
      "source": [
        "new_data = new_data.select('index', *new_data.columns[:-1])\n",
        "new_data.show(5)"
      ],
      "metadata": {
        "colab": {
          "base_uri": "https://localhost:8080/"
        },
        "id": "wu27TZoR08Zy",
        "outputId": "4ef9208c-5caf-40a7-9c6a-6b468532e916"
      },
      "execution_count": null,
      "outputs": [
        {
          "output_type": "stream",
          "name": "stdout",
          "text": [
            "+-----+---+---+-------------+---------+-----------+---------+----------+-----+--------------+-------+--------+------------+------+---------+-------+--------+-----+\n",
            "|index|Age|Sex|ChestPainType|RestingBP|Cholesterol|FastingBS|RestingECG|MaxHR|ExerciseAngina|Oldpeak|ST_Slope|HeartDisease|gender|ChestPain|Resting|Exercise|Slope|\n",
            "+-----+---+---+-------------+---------+-----------+---------+----------+-----+--------------+-------+--------+------------+------+---------+-------+--------+-----+\n",
            "|    0| 40|  M|          ATA|      140|        289|        0|    Normal|  172|             N|    0.0|      Up|           0|   0.0|      2.0|    0.0|     0.0|  1.0|\n",
            "|    1| 49|  F|          NAP|      160|        180|        0|    Normal|  156|             N|    1.0|    Flat|           1|   1.0|      1.0|    0.0|     0.0|  0.0|\n",
            "|    2| 37|  M|          ATA|      130|        283|        0|        ST|   98|             N|    0.0|      Up|           0|   0.0|      2.0|    2.0|     0.0|  1.0|\n",
            "|    3| 48|  F|          ASY|      138|        214|        0|    Normal|  108|             Y|    1.5|    Flat|           1|   1.0|      0.0|    0.0|     1.0|  0.0|\n",
            "|    4| 54|  M|          NAP|      150|        195|        0|    Normal|  122|             N|    0.0|      Up|           0|   0.0|      1.0|    0.0|     0.0|  1.0|\n",
            "+-----+---+---+-------------+---------+-----------+---------+----------+-----+--------------+-------+--------+------------+------+---------+-------+--------+-----+\n",
            "only showing top 5 rows\n",
            "\n"
          ]
        }
      ]
    },
    {
      "cell_type": "code",
      "source": [
        "patients_df = spark.read.csv('/content/patients.csv',header=True,inferSchema=True)\n",
        "patients_df.show()"
      ],
      "metadata": {
        "id": "eihkrW3oCDT4",
        "colab": {
          "base_uri": "https://localhost:8080/"
        },
        "collapsed": true,
        "outputId": "6c70494c-c39e-47fb-bf5c-d7b87d09ae39"
      },
      "execution_count": null,
      "outputs": [
        {
          "output_type": "stream",
          "name": "stdout",
          "text": [
            "+---+---------+---------+\n",
            "| id|FirstName| LastName|\n",
            "+---+---------+---------+\n",
            "|  4|     Paul|   Murray|\n",
            "|  5|    Lydia|   Walker|\n",
            "|  6|    Garry|   Harper|\n",
            "|  7|   Alfred|    Dixon|\n",
            "|  8|   Harold|Henderson|\n",
            "|  9|     Ryan| Sullivan|\n",
            "| 10|    Garry|     Hall|\n",
            "| 11|   Steven| Phillips|\n",
            "| 12|     Lucy|    Baker|\n",
            "| 13|     Reid|    Davis|\n",
            "| 14|      Ned| Morrison|\n",
            "| 15|    Honey|  Roberts|\n",
            "| 16|     Tara|  Stevens|\n",
            "| 17|    Cadie|  Johnson|\n",
            "| 18|  Chelsea|    Casey|\n",
            "| 19|    Derek| Campbell|\n",
            "| 20|   Rafael|    Baker|\n",
            "| 21|    Edith|     Hall|\n",
            "| 22|  Chelsea|    Adams|\n",
            "| 23|    Derek|     Hunt|\n",
            "+---+---------+---------+\n",
            "only showing top 20 rows\n",
            "\n"
          ]
        }
      ]
    },
    {
      "cell_type": "markdown",
      "source": [
        "### inner join"
      ],
      "metadata": {
        "id": "ZC4-72vg2tpv"
      }
    },
    {
      "cell_type": "code",
      "source": [
        "inner_df = new_data.join(patients_df ,new_data.index == patients_df.id ,how='inner')"
      ],
      "metadata": {
        "id": "gT0CF4zS0sFD"
      },
      "execution_count": null,
      "outputs": []
    },
    {
      "cell_type": "code",
      "source": [
        "inner_df.show()"
      ],
      "metadata": {
        "colab": {
          "base_uri": "https://localhost:8080/"
        },
        "id": "Aj23XSjO18zN",
        "outputId": "8ce0909d-5d58-411a-fc5f-9188dabf7ca6"
      },
      "execution_count": null,
      "outputs": [
        {
          "output_type": "stream",
          "name": "stdout",
          "text": [
            "+-----+---+---+-------------+---------+-----------+---------+----------+-----+--------------+-------+--------+------------+------+---------+-------+--------+-----+---+---------+---------+\n",
            "|index|Age|Sex|ChestPainType|RestingBP|Cholesterol|FastingBS|RestingECG|MaxHR|ExerciseAngina|Oldpeak|ST_Slope|HeartDisease|gender|ChestPain|Resting|Exercise|Slope| id|FirstName| LastName|\n",
            "+-----+---+---+-------------+---------+-----------+---------+----------+-----+--------------+-------+--------+------------+------+---------+-------+--------+-----+---+---------+---------+\n",
            "|    4| 54|  M|          NAP|      150|        195|        0|    Normal|  122|             N|    0.0|      Up|           0|   0.0|      1.0|    0.0|     0.0|  1.0|  4|     Paul|   Murray|\n",
            "|    5| 39|  M|          NAP|      120|        339|        0|    Normal|  170|             N|    0.0|      Up|           0|   0.0|      1.0|    0.0|     0.0|  1.0|  5|    Lydia|   Walker|\n",
            "|    6| 45|  F|          ATA|      130|        237|        0|    Normal|  170|             N|    0.0|      Up|           0|   1.0|      2.0|    0.0|     0.0|  1.0|  6|    Garry|   Harper|\n",
            "|    7| 54|  M|          ATA|      110|        208|        0|    Normal|  142|             N|    0.0|      Up|           0|   0.0|      2.0|    0.0|     0.0|  1.0|  7|   Alfred|    Dixon|\n",
            "|    8| 37|  M|          ASY|      140|        207|        0|    Normal|  130|             Y|    1.5|    Flat|           1|   0.0|      0.0|    0.0|     1.0|  0.0|  8|   Harold|Henderson|\n",
            "|    9| 48|  F|          ATA|      120|        284|        0|    Normal|  120|             N|    0.0|      Up|           0|   1.0|      2.0|    0.0|     0.0|  1.0|  9|     Ryan| Sullivan|\n",
            "|   10| 37|  F|          NAP|      130|        211|        0|    Normal|  142|             N|    0.0|      Up|           0|   1.0|      1.0|    0.0|     0.0|  1.0| 10|    Garry|     Hall|\n",
            "|   11| 58|  M|          ATA|      136|        164|        0|        ST|   99|             Y|    2.0|    Flat|           1|   0.0|      2.0|    2.0|     1.0|  0.0| 11|   Steven| Phillips|\n",
            "|   12| 39|  M|          ATA|      120|        204|        0|    Normal|  145|             N|    0.0|      Up|           0|   0.0|      2.0|    0.0|     0.0|  1.0| 12|     Lucy|    Baker|\n",
            "|   13| 49|  M|          ASY|      140|        234|        0|    Normal|  140|             Y|    1.0|    Flat|           1|   0.0|      0.0|    0.0|     1.0|  0.0| 13|     Reid|    Davis|\n",
            "|   14| 42|  F|          NAP|      115|        211|        0|        ST|  137|             N|    0.0|      Up|           0|   1.0|      1.0|    2.0|     0.0|  1.0| 14|      Ned| Morrison|\n",
            "|   15| 54|  F|          ATA|      120|        273|        0|    Normal|  150|             N|    1.5|    Flat|           0|   1.0|      2.0|    0.0|     0.0|  0.0| 15|    Honey|  Roberts|\n",
            "|   16| 38|  M|          ASY|      110|        196|        0|    Normal|  166|             N|    0.0|    Flat|           1|   0.0|      0.0|    0.0|     0.0|  0.0| 16|     Tara|  Stevens|\n",
            "|   17| 43|  F|          ATA|      120|        201|        0|    Normal|  165|             N|    0.0|      Up|           0|   1.0|      2.0|    0.0|     0.0|  1.0| 17|    Cadie|  Johnson|\n",
            "|   18| 60|  M|          ASY|      100|        248|        0|    Normal|  125|             N|    1.0|    Flat|           1|   0.0|      0.0|    0.0|     0.0|  0.0| 18|  Chelsea|    Casey|\n",
            "|   19| 36|  M|          ATA|      120|        267|        0|    Normal|  160|             N|    3.0|    Flat|           1|   0.0|      2.0|    0.0|     0.0|  0.0| 19|    Derek| Campbell|\n",
            "|   20| 43|  F|           TA|      100|        223|        0|    Normal|  142|             N|    0.0|      Up|           0|   1.0|      3.0|    0.0|     0.0|  1.0| 20|   Rafael|    Baker|\n",
            "|   21| 44|  M|          ATA|      120|        184|        0|    Normal|  142|             N|    1.0|    Flat|           0|   0.0|      2.0|    0.0|     0.0|  0.0| 21|    Edith|     Hall|\n",
            "|   22| 49|  F|          ATA|      124|        201|        0|    Normal|  164|             N|    0.0|      Up|           0|   1.0|      2.0|    0.0|     0.0|  1.0| 22|  Chelsea|    Adams|\n",
            "|   23| 44|  M|          ATA|      150|        288|        0|    Normal|  150|             Y|    3.0|    Flat|           1|   0.0|      2.0|    0.0|     1.0|  0.0| 23|    Derek|     Hunt|\n",
            "+-----+---+---+-------------+---------+-----------+---------+----------+-----+--------------+-------+--------+------------+------+---------+-------+--------+-----+---+---------+---------+\n",
            "only showing top 20 rows\n",
            "\n"
          ]
        }
      ]
    },
    {
      "cell_type": "code",
      "source": [
        "inner_df = inner_df.select('id','FirstName' ,'LastName', *inner_df.columns[:-3])\n",
        "inner_df.show(5)"
      ],
      "metadata": {
        "colab": {
          "base_uri": "https://localhost:8080/"
        },
        "id": "DwR2SPJ72FK2",
        "outputId": "0ca0d61f-0bfa-4e7e-f471-8685a24549e0"
      },
      "execution_count": null,
      "outputs": [
        {
          "output_type": "stream",
          "name": "stdout",
          "text": [
            "+---+---------+---------+-----+---+---+-------------+---------+-----------+---------+----------+-----+--------------+-------+--------+------------+------+---------+-------+--------+-----+\n",
            "| id|FirstName| LastName|index|Age|Sex|ChestPainType|RestingBP|Cholesterol|FastingBS|RestingECG|MaxHR|ExerciseAngina|Oldpeak|ST_Slope|HeartDisease|gender|ChestPain|Resting|Exercise|Slope|\n",
            "+---+---------+---------+-----+---+---+-------------+---------+-----------+---------+----------+-----+--------------+-------+--------+------------+------+---------+-------+--------+-----+\n",
            "|  4|     Paul|   Murray|    4| 54|  M|          NAP|      150|        195|        0|    Normal|  122|             N|    0.0|      Up|           0|   0.0|      1.0|    0.0|     0.0|  1.0|\n",
            "|  5|    Lydia|   Walker|    5| 39|  M|          NAP|      120|        339|        0|    Normal|  170|             N|    0.0|      Up|           0|   0.0|      1.0|    0.0|     0.0|  1.0|\n",
            "|  6|    Garry|   Harper|    6| 45|  F|          ATA|      130|        237|        0|    Normal|  170|             N|    0.0|      Up|           0|   1.0|      2.0|    0.0|     0.0|  1.0|\n",
            "|  7|   Alfred|    Dixon|    7| 54|  M|          ATA|      110|        208|        0|    Normal|  142|             N|    0.0|      Up|           0|   0.0|      2.0|    0.0|     0.0|  1.0|\n",
            "|  8|   Harold|Henderson|    8| 37|  M|          ASY|      140|        207|        0|    Normal|  130|             Y|    1.5|    Flat|           1|   0.0|      0.0|    0.0|     1.0|  0.0|\n",
            "+---+---------+---------+-----+---+---+-------------+---------+-----------+---------+----------+-----+--------------+-------+--------+------------+------+---------+-------+--------+-----+\n",
            "only showing top 5 rows\n",
            "\n"
          ]
        }
      ]
    },
    {
      "cell_type": "markdown",
      "source": [
        "### Outer join"
      ],
      "metadata": {
        "id": "oiV_Z4ry2wUd"
      }
    },
    {
      "cell_type": "code",
      "source": [
        "right_df = new_data.join(patients_df ,new_data.index == patients_df.id ,how='right')\n",
        "right_df.show()"
      ],
      "metadata": {
        "colab": {
          "base_uri": "https://localhost:8080/"
        },
        "id": "Vz9vd-XK2cMX",
        "outputId": "8dcad560-44f9-4643-a62f-d8e4ae165fb6"
      },
      "execution_count": null,
      "outputs": [
        {
          "output_type": "stream",
          "name": "stdout",
          "text": [
            "+-----+---+---+-------------+---------+-----------+---------+----------+-----+--------------+-------+--------+------------+------+---------+-------+--------+-----+---+---------+---------+\n",
            "|index|Age|Sex|ChestPainType|RestingBP|Cholesterol|FastingBS|RestingECG|MaxHR|ExerciseAngina|Oldpeak|ST_Slope|HeartDisease|gender|ChestPain|Resting|Exercise|Slope| id|FirstName| LastName|\n",
            "+-----+---+---+-------------+---------+-----------+---------+----------+-----+--------------+-------+--------+------------+------+---------+-------+--------+-----+---+---------+---------+\n",
            "|    4| 54|  M|          NAP|      150|        195|        0|    Normal|  122|             N|    0.0|      Up|           0|   0.0|      1.0|    0.0|     0.0|  1.0|  4|     Paul|   Murray|\n",
            "|    5| 39|  M|          NAP|      120|        339|        0|    Normal|  170|             N|    0.0|      Up|           0|   0.0|      1.0|    0.0|     0.0|  1.0|  5|    Lydia|   Walker|\n",
            "|    6| 45|  F|          ATA|      130|        237|        0|    Normal|  170|             N|    0.0|      Up|           0|   1.0|      2.0|    0.0|     0.0|  1.0|  6|    Garry|   Harper|\n",
            "|    7| 54|  M|          ATA|      110|        208|        0|    Normal|  142|             N|    0.0|      Up|           0|   0.0|      2.0|    0.0|     0.0|  1.0|  7|   Alfred|    Dixon|\n",
            "|    8| 37|  M|          ASY|      140|        207|        0|    Normal|  130|             Y|    1.5|    Flat|           1|   0.0|      0.0|    0.0|     1.0|  0.0|  8|   Harold|Henderson|\n",
            "|    9| 48|  F|          ATA|      120|        284|        0|    Normal|  120|             N|    0.0|      Up|           0|   1.0|      2.0|    0.0|     0.0|  1.0|  9|     Ryan| Sullivan|\n",
            "|   10| 37|  F|          NAP|      130|        211|        0|    Normal|  142|             N|    0.0|      Up|           0|   1.0|      1.0|    0.0|     0.0|  1.0| 10|    Garry|     Hall|\n",
            "|   11| 58|  M|          ATA|      136|        164|        0|        ST|   99|             Y|    2.0|    Flat|           1|   0.0|      2.0|    2.0|     1.0|  0.0| 11|   Steven| Phillips|\n",
            "|   12| 39|  M|          ATA|      120|        204|        0|    Normal|  145|             N|    0.0|      Up|           0|   0.0|      2.0|    0.0|     0.0|  1.0| 12|     Lucy|    Baker|\n",
            "|   13| 49|  M|          ASY|      140|        234|        0|    Normal|  140|             Y|    1.0|    Flat|           1|   0.0|      0.0|    0.0|     1.0|  0.0| 13|     Reid|    Davis|\n",
            "|   14| 42|  F|          NAP|      115|        211|        0|        ST|  137|             N|    0.0|      Up|           0|   1.0|      1.0|    2.0|     0.0|  1.0| 14|      Ned| Morrison|\n",
            "|   15| 54|  F|          ATA|      120|        273|        0|    Normal|  150|             N|    1.5|    Flat|           0|   1.0|      2.0|    0.0|     0.0|  0.0| 15|    Honey|  Roberts|\n",
            "|   16| 38|  M|          ASY|      110|        196|        0|    Normal|  166|             N|    0.0|    Flat|           1|   0.0|      0.0|    0.0|     0.0|  0.0| 16|     Tara|  Stevens|\n",
            "|   17| 43|  F|          ATA|      120|        201|        0|    Normal|  165|             N|    0.0|      Up|           0|   1.0|      2.0|    0.0|     0.0|  1.0| 17|    Cadie|  Johnson|\n",
            "|   18| 60|  M|          ASY|      100|        248|        0|    Normal|  125|             N|    1.0|    Flat|           1|   0.0|      0.0|    0.0|     0.0|  0.0| 18|  Chelsea|    Casey|\n",
            "|   19| 36|  M|          ATA|      120|        267|        0|    Normal|  160|             N|    3.0|    Flat|           1|   0.0|      2.0|    0.0|     0.0|  0.0| 19|    Derek| Campbell|\n",
            "|   20| 43|  F|           TA|      100|        223|        0|    Normal|  142|             N|    0.0|      Up|           0|   1.0|      3.0|    0.0|     0.0|  1.0| 20|   Rafael|    Baker|\n",
            "|   21| 44|  M|          ATA|      120|        184|        0|    Normal|  142|             N|    1.0|    Flat|           0|   0.0|      2.0|    0.0|     0.0|  0.0| 21|    Edith|     Hall|\n",
            "|   22| 49|  F|          ATA|      124|        201|        0|    Normal|  164|             N|    0.0|      Up|           0|   1.0|      2.0|    0.0|     0.0|  1.0| 22|  Chelsea|    Adams|\n",
            "|   23| 44|  M|          ATA|      150|        288|        0|    Normal|  150|             Y|    3.0|    Flat|           1|   0.0|      2.0|    0.0|     1.0|  0.0| 23|    Derek|     Hunt|\n",
            "+-----+---+---+-------------+---------+-----------+---------+----------+-----+--------------+-------+--------+------------+------+---------+-------+--------+-----+---+---------+---------+\n",
            "only showing top 20 rows\n",
            "\n"
          ]
        }
      ]
    },
    {
      "cell_type": "code",
      "source": [
        "left_df = new_data.join(patients_df ,new_data.index == patients_df.id ,how='left')\n",
        "left_df.show()"
      ],
      "metadata": {
        "colab": {
          "base_uri": "https://localhost:8080/"
        },
        "id": "nheFMq9y3I5Y",
        "outputId": "383cf2be-5245-47e8-a426-b48e29a07f2d"
      },
      "execution_count": null,
      "outputs": [
        {
          "output_type": "stream",
          "name": "stdout",
          "text": [
            "+-----+---+---+-------------+---------+-----------+---------+----------+-----+--------------+-------+--------+------------+------+---------+-------+--------+-----+----+---------+---------+\n",
            "|index|Age|Sex|ChestPainType|RestingBP|Cholesterol|FastingBS|RestingECG|MaxHR|ExerciseAngina|Oldpeak|ST_Slope|HeartDisease|gender|ChestPain|Resting|Exercise|Slope|  id|FirstName| LastName|\n",
            "+-----+---+---+-------------+---------+-----------+---------+----------+-----+--------------+-------+--------+------------+------+---------+-------+--------+-----+----+---------+---------+\n",
            "|    0| 40|  M|          ATA|      140|        289|        0|    Normal|  172|             N|    0.0|      Up|           0|   0.0|      2.0|    0.0|     0.0|  1.0|NULL|     NULL|     NULL|\n",
            "|    1| 49|  F|          NAP|      160|        180|        0|    Normal|  156|             N|    1.0|    Flat|           1|   1.0|      1.0|    0.0|     0.0|  0.0|NULL|     NULL|     NULL|\n",
            "|    2| 37|  M|          ATA|      130|        283|        0|        ST|   98|             N|    0.0|      Up|           0|   0.0|      2.0|    2.0|     0.0|  1.0|NULL|     NULL|     NULL|\n",
            "|    3| 48|  F|          ASY|      138|        214|        0|    Normal|  108|             Y|    1.5|    Flat|           1|   1.0|      0.0|    0.0|     1.0|  0.0|NULL|     NULL|     NULL|\n",
            "|    4| 54|  M|          NAP|      150|        195|        0|    Normal|  122|             N|    0.0|      Up|           0|   0.0|      1.0|    0.0|     0.0|  1.0|   4|     Paul|   Murray|\n",
            "|    5| 39|  M|          NAP|      120|        339|        0|    Normal|  170|             N|    0.0|      Up|           0|   0.0|      1.0|    0.0|     0.0|  1.0|   5|    Lydia|   Walker|\n",
            "|    6| 45|  F|          ATA|      130|        237|        0|    Normal|  170|             N|    0.0|      Up|           0|   1.0|      2.0|    0.0|     0.0|  1.0|   6|    Garry|   Harper|\n",
            "|    7| 54|  M|          ATA|      110|        208|        0|    Normal|  142|             N|    0.0|      Up|           0|   0.0|      2.0|    0.0|     0.0|  1.0|   7|   Alfred|    Dixon|\n",
            "|    8| 37|  M|          ASY|      140|        207|        0|    Normal|  130|             Y|    1.5|    Flat|           1|   0.0|      0.0|    0.0|     1.0|  0.0|   8|   Harold|Henderson|\n",
            "|    9| 48|  F|          ATA|      120|        284|        0|    Normal|  120|             N|    0.0|      Up|           0|   1.0|      2.0|    0.0|     0.0|  1.0|   9|     Ryan| Sullivan|\n",
            "|   10| 37|  F|          NAP|      130|        211|        0|    Normal|  142|             N|    0.0|      Up|           0|   1.0|      1.0|    0.0|     0.0|  1.0|  10|    Garry|     Hall|\n",
            "|   11| 58|  M|          ATA|      136|        164|        0|        ST|   99|             Y|    2.0|    Flat|           1|   0.0|      2.0|    2.0|     1.0|  0.0|  11|   Steven| Phillips|\n",
            "|   12| 39|  M|          ATA|      120|        204|        0|    Normal|  145|             N|    0.0|      Up|           0|   0.0|      2.0|    0.0|     0.0|  1.0|  12|     Lucy|    Baker|\n",
            "|   13| 49|  M|          ASY|      140|        234|        0|    Normal|  140|             Y|    1.0|    Flat|           1|   0.0|      0.0|    0.0|     1.0|  0.0|  13|     Reid|    Davis|\n",
            "|   14| 42|  F|          NAP|      115|        211|        0|        ST|  137|             N|    0.0|      Up|           0|   1.0|      1.0|    2.0|     0.0|  1.0|  14|      Ned| Morrison|\n",
            "|   15| 54|  F|          ATA|      120|        273|        0|    Normal|  150|             N|    1.5|    Flat|           0|   1.0|      2.0|    0.0|     0.0|  0.0|  15|    Honey|  Roberts|\n",
            "|   16| 38|  M|          ASY|      110|        196|        0|    Normal|  166|             N|    0.0|    Flat|           1|   0.0|      0.0|    0.0|     0.0|  0.0|  16|     Tara|  Stevens|\n",
            "|   17| 43|  F|          ATA|      120|        201|        0|    Normal|  165|             N|    0.0|      Up|           0|   1.0|      2.0|    0.0|     0.0|  1.0|  17|    Cadie|  Johnson|\n",
            "|   18| 60|  M|          ASY|      100|        248|        0|    Normal|  125|             N|    1.0|    Flat|           1|   0.0|      0.0|    0.0|     0.0|  0.0|  18|  Chelsea|    Casey|\n",
            "|   19| 36|  M|          ATA|      120|        267|        0|    Normal|  160|             N|    3.0|    Flat|           1|   0.0|      2.0|    0.0|     0.0|  0.0|  19|    Derek| Campbell|\n",
            "+-----+---+---+-------------+---------+-----------+---------+----------+-----+--------------+-------+--------+------------+------+---------+-------+--------+-----+----+---------+---------+\n",
            "only showing top 20 rows\n",
            "\n"
          ]
        }
      ]
    },
    {
      "cell_type": "markdown",
      "source": [
        "## Group By ,  Order By , Pivot"
      ],
      "metadata": {
        "id": "_1k81eZVqx3g"
      }
    },
    {
      "cell_type": "code",
      "source": [
        "data.groupBy(['Age','Sex']).count().orderBy('Age').show()"
      ],
      "metadata": {
        "colab": {
          "base_uri": "https://localhost:8080/"
        },
        "id": "dPsVreFOCb_-",
        "outputId": "8dfb68fa-c116-4f11-c0ca-6ba00b2e77ed"
      },
      "execution_count": null,
      "outputs": [
        {
          "output_type": "stream",
          "name": "stdout",
          "text": [
            "+---+---+-----+\n",
            "|Age|Sex|count|\n",
            "+---+---+-----+\n",
            "| 28|  M|    1|\n",
            "| 29|  M|    3|\n",
            "| 30|  F|    1|\n",
            "| 31|  F|    1|\n",
            "| 31|  M|    1|\n",
            "| 32|  M|    4|\n",
            "| 32|  F|    1|\n",
            "| 33|  M|    1|\n",
            "| 33|  F|    1|\n",
            "| 34|  M|    5|\n",
            "| 34|  F|    2|\n",
            "| 35|  M|    8|\n",
            "| 35|  F|    3|\n",
            "| 36|  M|    6|\n",
            "| 37|  F|    4|\n",
            "| 37|  M|    7|\n",
            "| 38|  F|    3|\n",
            "| 38|  M|   13|\n",
            "| 39|  F|    3|\n",
            "| 39|  M|   12|\n",
            "+---+---+-----+\n",
            "only showing top 20 rows\n",
            "\n"
          ]
        }
      ]
    },
    {
      "cell_type": "code",
      "source": [
        "data.groupBy('Age').count().show()"
      ],
      "metadata": {
        "colab": {
          "base_uri": "https://localhost:8080/"
        },
        "id": "Wu5UQVdGq1S1",
        "outputId": "5fd61382-36f4-4773-9af3-c0f5b3612bdc"
      },
      "execution_count": null,
      "outputs": [
        {
          "output_type": "stream",
          "name": "stdout",
          "text": [
            "+----+-----+\n",
            "| Age|count|\n",
            "+----+-----+\n",
            "|64.0|   22|\n",
            "|47.0|   19|\n",
            "|58.0|   42|\n",
            "|39.0|   15|\n",
            "|30.0|    1|\n",
            "|41.0|   24|\n",
            "|29.0|    3|\n",
            "|67.0|   15|\n",
            "|49.0|   21|\n",
            "|56.0|   38|\n",
            "|54.0|   51|\n",
            "|55.0|   41|\n",
            "|38.0|   16|\n",
            "|51.0|   35|\n",
            "|48.0|   31|\n",
            "|66.0|   13|\n",
            "|72.0|    4|\n",
            "|70.0|    7|\n",
            "|65.0|   21|\n",
            "|43.0|   24|\n",
            "+----+-----+\n",
            "only showing top 20 rows\n",
            "\n"
          ]
        }
      ]
    },
    {
      "cell_type": "code",
      "source": [
        "data.orderBy([\"Age\"], ascending=[0]).show(5)"
      ],
      "metadata": {
        "colab": {
          "base_uri": "https://localhost:8080/"
        },
        "id": "8qVhTDdHtHNf",
        "outputId": "b982aaed-7438-4b4a-e0bb-3b87467b1e48"
      },
      "execution_count": null,
      "outputs": [
        {
          "output_type": "stream",
          "name": "stdout",
          "text": [
            "+----+---+-------------+---------+-----------+---------+----------+-----+--------------+-------+--------+------------+\n",
            "| Age|Sex|ChestPainType|RestingBP|Cholesterol|FastingBS|RestingECG|MaxHR|ExerciseAngina|Oldpeak|ST_Slope|HeartDisease|\n",
            "+----+---+-------------+---------+-----------+---------+----------+-----+--------------+-------+--------+------------+\n",
            "|77.0|  M|          ASY|      124|        171|        0|        ST|  110|             Y|    2.0|      Up|           1|\n",
            "|77.0|  M|          ASY|      125|        304|        0|       LVH|  162|             Y|    0.0|      Up|           1|\n",
            "|76.0|  M|          NAP|      104|        113|        0|       LVH|  120|             N|    3.5|    Down|           1|\n",
            "|76.0|  F|          NAP|      140|        197|        0|        ST|  116|             N|    1.1|    Flat|           0|\n",
            "|75.0|  M|          ASY|      170|        203|        1|        ST|  108|             N|    0.0|    Flat|           1|\n",
            "+----+---+-------------+---------+-----------+---------+----------+-----+--------------+-------+--------+------------+\n",
            "only showing top 5 rows\n",
            "\n"
          ]
        }
      ]
    },
    {
      "cell_type": "code",
      "source": [
        "data.groupBy('Age').pivot('Sex',('M','F')).count().show()"
      ],
      "metadata": {
        "colab": {
          "base_uri": "https://localhost:8080/"
        },
        "id": "3nYGh1kYC3Wu",
        "outputId": "403ca129-5d69-47dd-d103-d578a5036e44"
      },
      "execution_count": null,
      "outputs": [
        {
          "output_type": "stream",
          "name": "stdout",
          "text": [
            "+---+---+----+\n",
            "|Age|  M|   F|\n",
            "+---+---+----+\n",
            "| 31|  1|   1|\n",
            "| 65| 17|   4|\n",
            "| 53| 27|   6|\n",
            "| 34|  5|   2|\n",
            "| 28|  1|NULL|\n",
            "| 76|  1|   1|\n",
            "| 44| 16|   3|\n",
            "| 47| 15|   4|\n",
            "| 52| 31|   5|\n",
            "| 40| 12|   1|\n",
            "| 57| 32|   6|\n",
            "| 54| 36|  15|\n",
            "| 48| 22|   9|\n",
            "| 64| 16|   6|\n",
            "| 41| 17|   7|\n",
            "| 43| 15|   9|\n",
            "| 37|  7|   4|\n",
            "| 61| 27|   4|\n",
            "| 72|  4|NULL|\n",
            "| 35|  8|   3|\n",
            "+---+---+----+\n",
            "only showing top 20 rows\n",
            "\n"
          ]
        }
      ]
    },
    {
      "cell_type": "markdown",
      "source": [
        "## ML in Pyspark"
      ],
      "metadata": {
        "id": "ubxDjRUktcwZ"
      }
    },
    {
      "cell_type": "markdown",
      "source": [
        "### Regression"
      ],
      "metadata": {
        "id": "GuY9xzL84Bpz"
      }
    },
    {
      "cell_type": "code",
      "source": [
        "data.show(5)"
      ],
      "metadata": {
        "colab": {
          "base_uri": "https://localhost:8080/"
        },
        "id": "pS6CoG2huA0x",
        "outputId": "1f311a63-1c5a-40e0-9129-a7525300429c"
      },
      "execution_count": null,
      "outputs": [
        {
          "output_type": "stream",
          "name": "stdout",
          "text": [
            "+----+---+-------------+---------+-----------+---------+----------+-----+--------------+-------+--------+------------+\n",
            "| Age|Sex|ChestPainType|RestingBP|Cholesterol|FastingBS|RestingECG|MaxHR|ExerciseAngina|Oldpeak|ST_Slope|HeartDisease|\n",
            "+----+---+-------------+---------+-----------+---------+----------+-----+--------------+-------+--------+------------+\n",
            "|40.0|  M|          ATA|      140|        289|        0|    Normal|  172|             N|    0.0|      Up|           0|\n",
            "|49.0|  F|          NAP|      160|        180|        0|    Normal|  156|             N|    1.0|    Flat|           1|\n",
            "|37.0|  M|          ATA|      130|        283|        0|        ST|   98|             N|    0.0|      Up|           0|\n",
            "|48.0|  F|          ASY|      138|        214|        0|    Normal|  108|             Y|    1.5|    Flat|           1|\n",
            "|54.0|  M|          NAP|      150|        195|        0|    Normal|  122|             N|    0.0|      Up|           0|\n",
            "+----+---+-------------+---------+-----------+---------+----------+-----+--------------+-------+--------+------------+\n",
            "only showing top 5 rows\n",
            "\n"
          ]
        }
      ]
    },
    {
      "cell_type": "code",
      "source": [
        "X = ['Age','RestingBP','Cholesterol','FastingBS']\n",
        "y = ['MaxHR']\n",
        "cols = data['Age','RestingBP','Cholesterol','FastingBS','MaxHR']"
      ],
      "metadata": {
        "id": "hsjmOV_Yxkpq"
      },
      "execution_count": null,
      "outputs": []
    },
    {
      "cell_type": "code",
      "source": [
        "from pyspark.ml.feature import VectorAssembler"
      ],
      "metadata": {
        "id": "03OJ75h3xykq"
      },
      "execution_count": null,
      "outputs": []
    },
    {
      "cell_type": "code",
      "source": [
        "cols.show()"
      ],
      "metadata": {
        "collapsed": true,
        "colab": {
          "base_uri": "https://localhost:8080/"
        },
        "id": "FQMm8rerx7Ot",
        "outputId": "c441252d-dd6b-4cdc-bd22-76dfbee48b77"
      },
      "execution_count": null,
      "outputs": [
        {
          "output_type": "stream",
          "name": "stdout",
          "text": [
            "+----+---------+-----------+---------+-----+\n",
            "| Age|RestingBP|Cholesterol|FastingBS|MaxHR|\n",
            "+----+---------+-----------+---------+-----+\n",
            "|40.0|      140|        289|        0|  172|\n",
            "|49.0|      160|        180|        0|  156|\n",
            "|37.0|      130|        283|        0|   98|\n",
            "|48.0|      138|        214|        0|  108|\n",
            "|54.0|      150|        195|        0|  122|\n",
            "|39.0|      120|        339|        0|  170|\n",
            "|45.0|      130|        237|        0|  170|\n",
            "|54.0|      110|        208|        0|  142|\n",
            "|37.0|      140|        207|        0|  130|\n",
            "|48.0|      120|        284|        0|  120|\n",
            "|37.0|      130|        211|        0|  142|\n",
            "|58.0|      136|        164|        0|   99|\n",
            "|39.0|      120|        204|        0|  145|\n",
            "|49.0|      140|        234|        0|  140|\n",
            "|42.0|      115|        211|        0|  137|\n",
            "|54.0|      120|        273|        0|  150|\n",
            "|38.0|      110|        196|        0|  166|\n",
            "|43.0|      120|        201|        0|  165|\n",
            "|60.0|      100|        248|        0|  125|\n",
            "|36.0|      120|        267|        0|  160|\n",
            "+----+---------+-----------+---------+-----+\n",
            "only showing top 20 rows\n",
            "\n"
          ]
        }
      ]
    },
    {
      "cell_type": "code",
      "source": [
        "vec_ass = VectorAssembler(inputCols=X ,outputCol='vectored_features')\n",
        "data = vec_ass.transform(data)\n",
        "new_data = data.select(['Age','RestingBP','Cholesterol','FastingBS','vectored_features','MaxHR'])"
      ],
      "metadata": {
        "id": "wAzsXaLly_B9"
      },
      "execution_count": null,
      "outputs": []
    },
    {
      "cell_type": "code",
      "source": [
        "new_data.show()"
      ],
      "metadata": {
        "collapsed": true,
        "colab": {
          "base_uri": "https://localhost:8080/"
        },
        "id": "PR6Coicgzmy5",
        "outputId": "b9517012-cc07-4b41-fd0a-e596e240cd64"
      },
      "execution_count": null,
      "outputs": [
        {
          "output_type": "stream",
          "name": "stdout",
          "text": [
            "+----+---------+-----------+---------+--------------------+-----+\n",
            "| Age|RestingBP|Cholesterol|FastingBS|   vectored_features|MaxHR|\n",
            "+----+---------+-----------+---------+--------------------+-----+\n",
            "|40.0|      140|        289|        0|[40.0,140.0,289.0...|  172|\n",
            "|49.0|      160|        180|        0|[49.0,160.0,180.0...|  156|\n",
            "|37.0|      130|        283|        0|[37.0,130.0,283.0...|   98|\n",
            "|48.0|      138|        214|        0|[48.0,138.0,214.0...|  108|\n",
            "|54.0|      150|        195|        0|[54.0,150.0,195.0...|  122|\n",
            "|39.0|      120|        339|        0|[39.0,120.0,339.0...|  170|\n",
            "|45.0|      130|        237|        0|[45.0,130.0,237.0...|  170|\n",
            "|54.0|      110|        208|        0|[54.0,110.0,208.0...|  142|\n",
            "|37.0|      140|        207|        0|[37.0,140.0,207.0...|  130|\n",
            "|48.0|      120|        284|        0|[48.0,120.0,284.0...|  120|\n",
            "|37.0|      130|        211|        0|[37.0,130.0,211.0...|  142|\n",
            "|58.0|      136|        164|        0|[58.0,136.0,164.0...|   99|\n",
            "|39.0|      120|        204|        0|[39.0,120.0,204.0...|  145|\n",
            "|49.0|      140|        234|        0|[49.0,140.0,234.0...|  140|\n",
            "|42.0|      115|        211|        0|[42.0,115.0,211.0...|  137|\n",
            "|54.0|      120|        273|        0|[54.0,120.0,273.0...|  150|\n",
            "|38.0|      110|        196|        0|[38.0,110.0,196.0...|  166|\n",
            "|43.0|      120|        201|        0|[43.0,120.0,201.0...|  165|\n",
            "|60.0|      100|        248|        0|[60.0,100.0,248.0...|  125|\n",
            "|36.0|      120|        267|        0|[36.0,120.0,267.0...|  160|\n",
            "+----+---------+-----------+---------+--------------------+-----+\n",
            "only showing top 20 rows\n",
            "\n"
          ]
        }
      ]
    },
    {
      "cell_type": "code",
      "source": [
        "train , test = new_data.randomSplit([0.80,0.20])"
      ],
      "metadata": {
        "id": "xDv4opZMzoCY"
      },
      "execution_count": null,
      "outputs": []
    },
    {
      "cell_type": "code",
      "source": [
        "from pyspark.ml.regression import LinearRegression"
      ],
      "metadata": {
        "id": "6CM7dT8Wz42d"
      },
      "execution_count": null,
      "outputs": []
    },
    {
      "cell_type": "code",
      "source": [
        "lr_model = LinearRegression(featuresCol='vectored_features',labelCol='MaxHR')"
      ],
      "metadata": {
        "id": "ycJeDMtO0AK-"
      },
      "execution_count": null,
      "outputs": []
    },
    {
      "cell_type": "code",
      "source": [
        "train_model = lr_model.fit(train)"
      ],
      "metadata": {
        "id": "WLv_du6t04jX"
      },
      "execution_count": null,
      "outputs": []
    },
    {
      "cell_type": "code",
      "source": [
        "train_model.coefficients"
      ],
      "metadata": {
        "colab": {
          "base_uri": "https://localhost:8080/"
        },
        "id": "ZqawiAJh0_Fw",
        "outputId": "80bc1e62-98bd-4985-c69f-ec7fd732646a"
      },
      "execution_count": null,
      "outputs": [
        {
          "output_type": "execute_result",
          "data": {
            "text/plain": [
              "DenseVector([-0.9183, -0.0597, 0.0494, -0.5651])"
            ]
          },
          "metadata": {},
          "execution_count": 82
        }
      ]
    },
    {
      "cell_type": "code",
      "source": [
        "y_pred = train_model.evaluate(test)"
      ],
      "metadata": {
        "colab": {
          "base_uri": "https://localhost:8080/"
        },
        "id": "57CQ1kqo1J6Y",
        "outputId": "a5495297-0e53-4a13-c89c-f1e6476d02de"
      },
      "execution_count": null,
      "outputs": [
        {
          "output_type": "execute_result",
          "data": {
            "text/plain": [
              "0.20409589621649238"
            ]
          },
          "metadata": {},
          "execution_count": 87
        }
      ]
    },
    {
      "cell_type": "code",
      "source": [
        "def scores(pred):\n",
        "  R2 = pred.r2\n",
        "  MAE = pred.meanAbsoluteError\n",
        "  MSE = pred.meanSquaredError\n",
        "  print(R2,'\\n',MAE,'\\n',MSE)\n"
      ],
      "metadata": {
        "id": "SGrRtuP01Yy4"
      },
      "execution_count": null,
      "outputs": []
    },
    {
      "cell_type": "code",
      "source": [
        "scores(y_pred)"
      ],
      "metadata": {
        "colab": {
          "base_uri": "https://localhost:8080/"
        },
        "id": "IkTqHu5Z1-EC",
        "outputId": "2289d942-80ec-46d9-d323-9de41a990eae"
      },
      "execution_count": null,
      "outputs": [
        {
          "output_type": "stream",
          "name": "stdout",
          "text": [
            "0.20409589621649238 \n",
            " 18.461304153930595 \n",
            " 501.3246195530444\n"
          ]
        }
      ]
    },
    {
      "cell_type": "markdown",
      "source": [
        "### Clasiification"
      ],
      "metadata": {
        "id": "pGPLfCD44E4X"
      }
    },
    {
      "cell_type": "code",
      "source": [
        "X = ['Age','RestingBP','Cholesterol','FastingBS','MaxHR']\n",
        "y = ['HeartDisease']\n",
        "cols = data['Age','RestingBP','Cholesterol','FastingBS','MaxHR','HeartDisease']"
      ],
      "metadata": {
        "id": "jqMhfKUY4Qh4"
      },
      "execution_count": null,
      "outputs": []
    },
    {
      "cell_type": "code",
      "source": [
        "vec_ass = VectorAssembler(inputCols=X ,outputCol='vectored_features')\n",
        "data = vec_ass.transform(data)\n",
        "new_data = data.select(['vectored_features','HeartDisease'])"
      ],
      "metadata": {
        "id": "aJBn2N_l4nAo"
      },
      "execution_count": null,
      "outputs": []
    },
    {
      "cell_type": "code",
      "source": [
        "train , test = new_data.randomSplit([0.80,0.20])"
      ],
      "metadata": {
        "id": "KVZ2nL7y42n-"
      },
      "execution_count": null,
      "outputs": []
    },
    {
      "cell_type": "code",
      "source": [
        "from pyspark.ml.classification import LogisticRegression , RandomForestClassifier"
      ],
      "metadata": {
        "id": "u0JpkUMJ5Man"
      },
      "execution_count": null,
      "outputs": []
    },
    {
      "cell_type": "code",
      "source": [
        "logistic = LogisticRegression(featuresCol='vectored_features' , labelCol='HeartDisease')"
      ],
      "metadata": {
        "id": "S5ICSPSF5Rtp"
      },
      "execution_count": null,
      "outputs": []
    },
    {
      "cell_type": "code",
      "source": [
        "lrc = logistic.fit(train)"
      ],
      "metadata": {
        "id": "UxgQ6-gS5jyi"
      },
      "execution_count": null,
      "outputs": []
    },
    {
      "cell_type": "code",
      "source": [
        "random_forest = RandomForestClassifier(featuresCol='vectored_features' , labelCol='HeartDisease')"
      ],
      "metadata": {
        "id": "IProJC-45tNO"
      },
      "execution_count": null,
      "outputs": []
    },
    {
      "cell_type": "code",
      "source": [
        "rfc = random_forest.fit(train)"
      ],
      "metadata": {
        "id": "y7VfBxQT6nfH"
      },
      "execution_count": null,
      "outputs": []
    },
    {
      "cell_type": "code",
      "source": [
        "lrp = lrc.transform(test)\n",
        "rfp = rfc.transform(test)"
      ],
      "metadata": {
        "id": "gAm0V90R6qSR"
      },
      "execution_count": null,
      "outputs": []
    },
    {
      "cell_type": "code",
      "source": [
        "from pyspark.ml.evaluation import BinaryClassificationEvaluator\n",
        "eval = BinaryClassificationEvaluator(labelCol='HeartDisease')"
      ],
      "metadata": {
        "id": "Ao3tOWiL7c6g"
      },
      "execution_count": null,
      "outputs": []
    },
    {
      "cell_type": "code",
      "source": [
        "rf_eval = eval.evaluate(rfp)\n",
        "lr_eval = eval.evaluate(lrp)\n",
        "print(rf_eval,'\\n',lr_eval)"
      ],
      "metadata": {
        "colab": {
          "base_uri": "https://localhost:8080/"
        },
        "id": "jLbykRd374R3",
        "outputId": "1a569a36-a934-4f1e-99e2-e94510bc2f40"
      },
      "execution_count": null,
      "outputs": [
        {
          "output_type": "stream",
          "name": "stdout",
          "text": [
            "0.8060582218725416 \n",
            " 0.7820613690007872\n"
          ]
        }
      ]
    },
    {
      "cell_type": "code",
      "source": [],
      "metadata": {
        "id": "KPx0v0D58Ci_"
      },
      "execution_count": null,
      "outputs": []
    },
    {
      "cell_type": "markdown",
      "source": [
        "## Pyspark Functions"
      ],
      "metadata": {
        "id": "OZOfgja67Ysv"
      }
    },
    {
      "cell_type": "code",
      "source": [
        "from pyspark.sql.functions import lower , upper , substring , min , max  , avg"
      ],
      "metadata": {
        "id": "ChUiTfPE7d64"
      },
      "execution_count": null,
      "outputs": []
    },
    {
      "cell_type": "code",
      "source": [
        "data.show()"
      ],
      "metadata": {
        "colab": {
          "base_uri": "https://localhost:8080/"
        },
        "id": "pj4WBe9O8C8S",
        "outputId": "fc988f3a-206a-4ba9-d48a-447db4ba8a2c"
      },
      "execution_count": null,
      "outputs": [
        {
          "output_type": "stream",
          "name": "stdout",
          "text": [
            "+---+---+-------------+---------+-----------+---------+----------+-----+--------------+-------+--------+------------+\n",
            "|Age|Sex|ChestPainType|RestingBP|Cholesterol|FastingBS|RestingECG|MaxHR|ExerciseAngina|Oldpeak|ST_Slope|HeartDisease|\n",
            "+---+---+-------------+---------+-----------+---------+----------+-----+--------------+-------+--------+------------+\n",
            "| 40|  M|          ATA|      140|        289|        0|    Normal|  172|             N|    0.0|      Up|           0|\n",
            "| 49|  F|          NAP|      160|        180|        0|    Normal|  156|             N|    1.0|    Flat|           1|\n",
            "| 37|  M|          ATA|      130|        283|        0|        ST|   98|             N|    0.0|      Up|           0|\n",
            "| 48|  F|          ASY|      138|        214|        0|    Normal|  108|             Y|    1.5|    Flat|           1|\n",
            "| 54|  M|          NAP|      150|        195|        0|    Normal|  122|             N|    0.0|      Up|           0|\n",
            "| 39|  M|          NAP|      120|        339|        0|    Normal|  170|             N|    0.0|      Up|           0|\n",
            "| 45|  F|          ATA|      130|        237|        0|    Normal|  170|             N|    0.0|      Up|           0|\n",
            "| 54|  M|          ATA|      110|        208|        0|    Normal|  142|             N|    0.0|      Up|           0|\n",
            "| 37|  M|          ASY|      140|        207|        0|    Normal|  130|             Y|    1.5|    Flat|           1|\n",
            "| 48|  F|          ATA|      120|        284|        0|    Normal|  120|             N|    0.0|      Up|           0|\n",
            "| 37|  F|          NAP|      130|        211|        0|    Normal|  142|             N|    0.0|      Up|           0|\n",
            "| 58|  M|          ATA|      136|        164|        0|        ST|   99|             Y|    2.0|    Flat|           1|\n",
            "| 39|  M|          ATA|      120|        204|        0|    Normal|  145|             N|    0.0|      Up|           0|\n",
            "| 49|  M|          ASY|      140|        234|        0|    Normal|  140|             Y|    1.0|    Flat|           1|\n",
            "| 42|  F|          NAP|      115|        211|        0|        ST|  137|             N|    0.0|      Up|           0|\n",
            "| 54|  F|          ATA|      120|        273|        0|    Normal|  150|             N|    1.5|    Flat|           0|\n",
            "| 38|  M|          ASY|      110|        196|        0|    Normal|  166|             N|    0.0|    Flat|           1|\n",
            "| 43|  F|          ATA|      120|        201|        0|    Normal|  165|             N|    0.0|      Up|           0|\n",
            "| 60|  M|          ASY|      100|        248|        0|    Normal|  125|             N|    1.0|    Flat|           1|\n",
            "| 36|  M|          ATA|      120|        267|        0|    Normal|  160|             N|    3.0|    Flat|           1|\n",
            "+---+---+-------------+---------+-----------+---------+----------+-----+--------------+-------+--------+------------+\n",
            "only showing top 20 rows\n",
            "\n"
          ]
        }
      ]
    },
    {
      "cell_type": "code",
      "source": [
        "data.select(min('Age'),max('Age'),avg('Age')).show()"
      ],
      "metadata": {
        "colab": {
          "base_uri": "https://localhost:8080/"
        },
        "id": "irDxt5W08Ge9",
        "outputId": "c4889e20-8abd-4780-ac30-c64606fe3eb7"
      },
      "execution_count": null,
      "outputs": [
        {
          "output_type": "stream",
          "name": "stdout",
          "text": [
            "+--------+--------+------------------+\n",
            "|min(Age)|max(Age)|          avg(Age)|\n",
            "+--------+--------+------------------+\n",
            "|      28|      77|53.510893246187365|\n",
            "+--------+--------+------------------+\n",
            "\n"
          ]
        }
      ]
    },
    {
      "cell_type": "code",
      "source": [
        "data.select(lower('RestingECG'),upper('RestingECG'),substring('RestingECG',1,3)).show()"
      ],
      "metadata": {
        "colab": {
          "base_uri": "https://localhost:8080/"
        },
        "id": "p5opQDMD8W6y",
        "outputId": "000393ad-b073-48ae-c1c3-3d0e3f3d77d8"
      },
      "execution_count": null,
      "outputs": [
        {
          "output_type": "stream",
          "name": "stdout",
          "text": [
            "+-----------------+-----------------+---------------------------+\n",
            "|lower(RestingECG)|upper(RestingECG)|substring(RestingECG, 1, 3)|\n",
            "+-----------------+-----------------+---------------------------+\n",
            "|           normal|           NORMAL|                        Nor|\n",
            "|           normal|           NORMAL|                        Nor|\n",
            "|               st|               ST|                         ST|\n",
            "|           normal|           NORMAL|                        Nor|\n",
            "|           normal|           NORMAL|                        Nor|\n",
            "|           normal|           NORMAL|                        Nor|\n",
            "|           normal|           NORMAL|                        Nor|\n",
            "|           normal|           NORMAL|                        Nor|\n",
            "|           normal|           NORMAL|                        Nor|\n",
            "|           normal|           NORMAL|                        Nor|\n",
            "|           normal|           NORMAL|                        Nor|\n",
            "|               st|               ST|                         ST|\n",
            "|           normal|           NORMAL|                        Nor|\n",
            "|           normal|           NORMAL|                        Nor|\n",
            "|               st|               ST|                         ST|\n",
            "|           normal|           NORMAL|                        Nor|\n",
            "|           normal|           NORMAL|                        Nor|\n",
            "|           normal|           NORMAL|                        Nor|\n",
            "|           normal|           NORMAL|                        Nor|\n",
            "|           normal|           NORMAL|                        Nor|\n",
            "+-----------------+-----------------+---------------------------+\n",
            "only showing top 20 rows\n",
            "\n"
          ]
        }
      ]
    },
    {
      "cell_type": "code",
      "source": [
        "from pyspark.sql.functions import expr ,  date_add, date_sub, datediff, date_format"
      ],
      "metadata": {
        "id": "KP4Zn5Zb8xAS"
      },
      "execution_count": null,
      "outputs": []
    },
    {
      "cell_type": "code",
      "source": [
        "# Create a date columns\n",
        "data = data.withColumn('date', expr('date_add(current_timestamp(), cast(rand()*365 as int))'))\n",
        "data.show(5)"
      ],
      "metadata": {
        "colab": {
          "base_uri": "https://localhost:8080/"
        },
        "id": "oBeNP1iW9q0C",
        "outputId": "00374a9b-da09-46e3-f070-72b6fe795e1b"
      },
      "execution_count": null,
      "outputs": [
        {
          "output_type": "stream",
          "name": "stdout",
          "text": [
            "+---+---+-------------+---------+-----------+---------+----------+-----+--------------+-------+--------+------------+----------+\n",
            "|Age|Sex|ChestPainType|RestingBP|Cholesterol|FastingBS|RestingECG|MaxHR|ExerciseAngina|Oldpeak|ST_Slope|HeartDisease|      date|\n",
            "+---+---+-------------+---------+-----------+---------+----------+-----+--------------+-------+--------+------------+----------+\n",
            "| 40|  M|          ATA|      140|        289|        0|    Normal|  172|             N|    0.0|      Up|           0|2025-05-24|\n",
            "| 49|  F|          NAP|      160|        180|        0|    Normal|  156|             N|    1.0|    Flat|           1|2024-11-30|\n",
            "| 37|  M|          ATA|      130|        283|        0|        ST|   98|             N|    0.0|      Up|           0|2024-10-07|\n",
            "| 48|  F|          ASY|      138|        214|        0|    Normal|  108|             Y|    1.5|    Flat|           1|2024-09-25|\n",
            "| 54|  M|          NAP|      150|        195|        0|    Normal|  122|             N|    0.0|      Up|           0|2025-02-05|\n",
            "+---+---+-------------+---------+-----------+---------+----------+-----+--------------+-------+--------+------------+----------+\n",
            "only showing top 5 rows\n",
            "\n"
          ]
        }
      ]
    },
    {
      "cell_type": "code",
      "source": [
        "data.select(min('date'), max('date'), datediff(max('date'), min('date')),\n",
        "          date_sub(min('date'), 10), date_add(max('date'), 10)).show()"
      ],
      "metadata": {
        "colab": {
          "base_uri": "https://localhost:8080/"
        },
        "id": "QD0ydzAV9z2i",
        "outputId": "cd582a29-aba4-446f-8691-46773550a589"
      },
      "execution_count": null,
      "outputs": [
        {
          "output_type": "stream",
          "name": "stdout",
          "text": [
            "+----------+----------+------------------------------+-----------------------+-----------------------+\n",
            "| min(date)| max(date)|datediff(max(date), min(date))|date_sub(min(date), 10)|date_add(max(date), 10)|\n",
            "+----------+----------+------------------------------+-----------------------+-----------------------+\n",
            "|2024-07-09|2025-07-08|                           364|             2024-06-29|             2025-07-18|\n",
            "+----------+----------+------------------------------+-----------------------+-----------------------+\n",
            "\n"
          ]
        }
      ]
    },
    {
      "cell_type": "code",
      "source": [
        "data.select(date_format('date', 'dd/MMM/yyyy')).show(5)"
      ],
      "metadata": {
        "colab": {
          "base_uri": "https://localhost:8080/"
        },
        "id": "XDs5uDsY9_EJ",
        "outputId": "abac85ee-a861-4185-8579-29c8252d7467"
      },
      "execution_count": null,
      "outputs": [
        {
          "output_type": "stream",
          "name": "stdout",
          "text": [
            "+------------------------------+\n",
            "|date_format(date, dd/MMM/yyyy)|\n",
            "+------------------------------+\n",
            "|                   24/May/2025|\n",
            "|                   30/Nov/2024|\n",
            "|                   07/Oct/2024|\n",
            "|                   25/Sep/2024|\n",
            "|                   05/Feb/2025|\n",
            "+------------------------------+\n",
            "only showing top 5 rows\n",
            "\n"
          ]
        }
      ]
    }
  ]
}